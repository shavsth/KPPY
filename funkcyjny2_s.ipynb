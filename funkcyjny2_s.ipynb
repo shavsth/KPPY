{
 "cells": [
  {
   "cell_type": "markdown",
   "id": "0ae81f85-d582-4984-99df-ba45e823eab1",
   "metadata": {},
   "source": [
    "# Elementy programowania funkcyjnego w Pythonie - c.d.\n",
    "Ostatnio poznaliśmy funkcję `reduce` z modułu `functools`, która aplikuje funkcję dwuargumentową (np. mnożenie) do elementów \"listy\" kolejno: startowy z pierwszy, wynik z drugim, wynik z trzecim itd. Jej koleżanka: funkcja `accumulate` z modułu `itertools` robi dokładnie to samo, tylko jej wynikiem jest iterator wszystkich pośrednich wartości."
   ]
  },
  {
   "cell_type": "code",
   "execution_count": null,
   "id": "b1d176bf-3724-46c2-9867-999920b743d5",
   "metadata": {},
   "outputs": [],
   "source": [
    "from functools import *\n",
    "from itertools import *\n",
    "l = reduce(lambda x,y: x*y, [2,3,1,7], 10)\n",
    "print(l)\n",
    "l = accumulate([2,3,1,7], lambda x,y: x*y, initial=10)\n",
    "print(*l)"
   ]
  },
  {
   "cell_type": "markdown",
   "id": "45c92ac9-2fe8-4306-9d48-240ec0c686ed",
   "metadata": {},
   "source": [
    "Tak jak w funkcji `reduce` można nie podawać początkowej wartości (wtedy zaczynamy od pierwszego elementu listy) i inaczej niż w funkcji `reduce` możemy nie podawać funkcji, wtedy domyślną funkcją będzie dodawanie."
   ]
  },
  {
   "cell_type": "code",
   "execution_count": null,
   "id": "8b2ea15e-ea5e-4ff4-a207-12da5933175a",
   "metadata": {},
   "outputs": [],
   "source": [
    "l = accumulate([3,20,100,4000])\n",
    "print(*l)"
   ]
  },
  {
   "cell_type": "markdown",
   "id": "5520a979-240c-4bff-95c8-5d57ab893dcf",
   "metadata": {},
   "source": [
    "Wynikiem accumulate jest generator, podobny do tego, zwracanego przez `map` czy `filter`.\n",
    "\n",
    "## Inne funkcje z 'itertools'\n",
    "\n",
    "Oprócz `accumulate` i poznanej wcześniej funkcji `islice`, dającej iteratorom funkcjonalność zbliżoną do slice'owania list i napisów, w module `itertools` jest wiele funkcji tworzących i przetwarzających iteratory.\n",
    "Najlepiej przejrzeć tabelkę na samym początku [dokumentacji tego modułu](https://docs.python.org/3/library/itertools.html). Większość z tych funkcji nie wymaga komentarza, ale kilka omówimy.\n",
    "\n",
    "Funkcja `starmap` działa tak jak `map`, tylko, że zakłada, że elementami iteratora są ciągi, które dajemy funkcji jako zestawy argumentów, czyli jeśli iterator to `(c0, c1, ...)` to wynikiem jest `(f(*c0), f(*c1), ...)`. W najprostszym (i pewnie najczęstszym) przypadku pozwala to na zaaplikowanie funkcji dwuargumentowej do każdej pary z listy par: "
   ]
  },
  {
   "cell_type": "code",
   "execution_count": null,
   "id": "022b4d77-663a-4dcb-8af2-3de016af1bc9",
   "metadata": {},
   "outputs": [],
   "source": [
    "lista_par = [(i,i+1) for i in range(10)]\n",
    "# print(list(map(lambda x,y: x*y, lista_par)))     # to nie zadziała\n",
    "list(starmap(lambda x,y: x*y, lista_par))        # a to działa"
   ]
  },
  {
   "cell_type": "markdown",
   "id": "8a9c9a78-ff6e-4c86-b0a6-941222e73cd3",
   "metadata": {},
   "source": [
    "Ciekawszy przypadek polega na aplikowaniu funkcji przyjmującej dowolną liczbę argumentów (np. `mult` poniżej) do kolejnych zestawów danych, być może różnych rozmiarów."
   ]
  },
  {
   "cell_type": "code",
   "execution_count": null,
   "id": "c3346056-63b7-4a8a-a486-d0d4cd6631a7",
   "metadata": {},
   "outputs": [],
   "source": [
    "coraz_dłuższe_krotki = accumulate(range(1,7), lambda k, x: k + (x,), initial=tuple())\n",
    "#print(*coraz_dłuższe_krotki)     # to oczywiście psuje iterator :)\n",
    "def mult(*args):\n",
    "    return reduce(lambda x,y: x*y, args, 1)\n",
    "list(starmap(mult, coraz_dłuższe_krotki))"
   ]
  },
  {
   "cell_type": "markdown",
   "id": "1b762f34-8918-4b30-aac3-6eff36946c0c",
   "metadata": {},
   "source": [
    "Przy próbie odkomentowania linii zawierającej `print(...)` okazuje się, że ciąg dalszy przestaje działać. Dzieje się tak dlatego, że iteratory są \"jednorazowe\". Aby wykorzystać dany iterator dwukrotnie, należy go rozdwoić za pomocą funkcji `tee`. Przy okazji przykład użycia jeszcze jednej funkcji, `groupby`:"
   ]
  },
  {
   "cell_type": "code",
   "execution_count": null,
   "id": "958ad96f-55fd-41a4-bd56-bc809d2bb19a",
   "metadata": {},
   "outputs": [],
   "source": [
    "coraz_dłuższe_krotki = accumulate(range(1,7), lambda k, x: k + (x,), initial=tuple())  # krotki\n",
    "krotki1, krotki2 = tee(coraz_dłuższe_krotki)  # rozdwojenie\n",
    "print(*krotki1)                               # wypisanie pierwszej kopii\n",
    "m = starmap(mult, krotki2)                    # iloczyny używające drugiej kopii\n",
    "g = groupby(m, lambda x: len(str(x)))         # dzielenie ciągu liczb wg długości ich zapisu\n",
    "#print(list(g))                                # to by popsuło wypisywanie poniżej\n",
    "print(list(map(lambda p: (p[0], list(p[1])), g))) # wypisanie z odpakowaniem wewnętrznych iteratorków"
   ]
  },
  {
   "cell_type": "markdown",
   "id": "8efbf28f-77b2-4c55-92d4-85a7e7f741fe",
   "metadata": {},
   "source": [
    "Funkcja `groupby` tnie ciąg wejściowy na podciągi, cięcie następuje po każdej zmianie wartości funkcji podanej jako drugi argument.\n",
    "Wynikiem jest iterator złożony z par: wartość funkcji, iterator odp. fragmentu ciągu wejściowego.\n",
    "\n",
    "Używając funkcji `groupby` należy zwrócić uwagę na to, że wyjściowy iterator kawałków oraz same kawałki wspóldzielą wejściowy iterator! Dlatego należy korzystać z kawałków po kolei. Na przykład to nie zadziała:"
   ]
  },
  {
   "cell_type": "code",
   "execution_count": null,
   "id": "8edc2e8e-71ab-4aba-abac-18687f67e319",
   "metadata": {},
   "outputs": [],
   "source": [
    "g = groupby([1,1,1,2,2,2,2,3,3,3])\n",
    "(jeden, jedynki) = next(g)\n",
    "# print(list(jedynki))  # tu działa\n",
    "(dwa, dwojki) = next(g)\n",
    "print(list(jedynki))   # a tu nie :)\n",
    "print(list(dwojki))  # teraz działają tylko dwójki"
   ]
  },
  {
   "cell_type": "markdown",
   "id": "f08f5820-46dc-4969-9bfd-9c88a799bc64",
   "metadata": {},
   "source": [
    "Uwaga! Czasami rozdwajanie za pomocą `tee` też nie pomaga..."
   ]
  },
  {
   "cell_type": "code",
   "execution_count": null,
   "id": "6a746ca2-302e-4ae8-831b-447feb4253b5",
   "metadata": {},
   "outputs": [],
   "source": [
    "g = groupby([10,11,12,21,22,23,24,31,32,34], lambda x: x // 10)\n",
    "g1, g2 = tee(g) # rozdwojenie (?!)\n",
    "#print(list(g1)) # Ale to też psuje !!!!\n",
    "print(list(map(lambda p: (p[0], tuple(p[1])), g2)))"
   ]
  },
  {
   "cell_type": "markdown",
   "id": "70cf8ef0-0d68-4d8f-af46-876d2ddd275d",
   "metadata": {},
   "source": [
    "Dzieje się tak dlatego, że początkowy iterator, ten zrobiony z listy, jest współdzielony pomiędzy `g1` i `g2`. I to jego tak naprawdę wyczerpuje transformacja w listę."
   ]
  },
  {
   "cell_type": "markdown",
   "id": "2f8312dd-6edf-41e4-b0a1-66d8287d375a",
   "metadata": {},
   "source": [
    "### Ćwiczenie 1\n",
    "Rozwiąż za pomocą `groupby`, `map` oraz `max` zadanie z o najdłuższym plateau w liście (czyli wyznacz długość najdłuższego spójnego fragmentu listy o równych wartościach), np. `plateau([1,1,1,2,2,2,2,1,1,3,4,5,5,5]) = 4`\n",
    "Nie zapomnij o liście pustej!"
   ]
  },
  {
   "cell_type": "code",
   "execution_count": null,
   "metadata": {},
   "outputs": [],
   "source": [
    "def plateau(arr):\n",
    "    return  max(list(map(lambda x: len(tuple(x[1])), groupby(arr))), default = 'empty')"
   ]
  },
  {
   "cell_type": "markdown",
   "id": "6971d5e6-6edd-4361-82d0-44ffd2375569",
   "metadata": {},
   "source": [
    "## Moduł 'operator'\n",
    "W niniejszym scenariuszu, i w poprzednim też, napisaliśmy mnóstwo małych wyrażeń lambda. Część z nich polegała na zamianie w funkcję operacji takiej jak mnożenie czy dodawanie. Często tak naprawdę nie ma potrzeby robienia tego za pomocą wyrażeń lambda, ponieważ odpowiednie funkcje nazwane są zdefiniowane w module `operator`. Najprościej zacząć zapoznawanie się z tym modułem od [niniejszej tabelki](https://docs.python.org/3/library/operator.html#mapping-operators-to-functions). Przykład użycia:"
   ]
  },
  {
   "cell_type": "code",
   "execution_count": null,
   "id": "ebac2bb0-dcf6-46c1-a2ab-29d2a3e652ae",
   "metadata": {},
   "outputs": [],
   "source": [
    "import operator\n",
    "def silnia(n):\n",
    "    return reduce(operator.mul, range(1,n+1), 1)\n",
    "silnia(10)"
   ]
  },
  {
   "cell_type": "markdown",
   "id": "3cbc4f24-2617-4586-a521-3cbd0763f0e2",
   "metadata": {},
   "source": [
    "Operatory zdefiniowane w module `operator` w większości nie wymagają dalszego wyjaśniania. Ale kilka omówimy :) Przydają się one nie tylko jako funkcje używane w `map`, `starmap` czy `reduce`, ale także jako element wyrażeń lambda. Dotyczy to zwłaszcza takich operatorów jak np. `setitem` czy `delitem`, które pozwalają na zastąpienie instrukcji (niedozwolonych w wyrażeniach lambda) wywołaniami funkcji. Na przykład w ten sposób można efektywnie (bez wielokrotnego kopiowania listy) \"podwoić\" elementy na liście za pomocą `reduce`:"
   ]
  },
  {
   "cell_type": "code",
   "execution_count": null,
   "id": "1e3aa80a-6bb9-4dd3-8619-33ec340de6de",
   "metadata": {},
   "outputs": [],
   "source": [
    "print(reduce(lambda l,x: operator.setitem(l, slice(len(l),None), [x,x]) or l, range(7), []))\n",
    "#print(len(reduce(lambda l,x: operator.setitem(l, slice(len(l),None), [x,x]) or l, range(30_000), [])))\n",
    "#print(len(reduce(lambda l,x: l+[x,x], range(30_000), [])))"
   ]
  },
  {
   "cell_type": "markdown",
   "id": "803561fb-df18-4308-be48-5f403dbd64c4",
   "metadata": {},
   "source": [
    "Wywołanie `setitem` powyżej odpowiada instrukcji `l[len(l):] = [x,x]`, która powoduje dopisanie do końca listy dwóch elementów `x`. Oczywiście ten sam efekt można by uzyskać używając `l.extend([x,x])`, ale w przypadku potrzeby użycia bardziej subtelnych modyfikacji listy, wersja z `operator.setitem` jest jedyną możliwą.\n",
    "Fragment `<wyrażenie dające None> or l` tak naprawdę ma na celu wywołanie funkcji, a \"potem\" oddanie wartości (zmodyfikowanego) `l`. Omawialiśmy tego rodzaju wyrażenia udające ciąg instrukcji w poprzednim scenariuszu.\n",
    "\n",
    "Aby przekonać się o efektywności wersji przedłużającej listę w miejscu, dla odróżnienia od `l + [x,x]`, które konstruuje za każdym wywołaniem nową listę, wystarczy porównać czas wykonania dwóch zakomentowanych linii w powyższej kratce. Działają one tak samo, ale dla dłuższych list.\n",
    "\n",
    "*Uwaga o stylu:* Na początku poprzedniego scenariusza o programowaniu funkcyjnym, wspomnieliśmy, że polega ono na tym, by nie korzystać z efektów ubocznych, ale by obliczać nowe wartości na podstawie starych. Tutaj łamiemy tę zasadę ze względu na efektywność: zmieniamy stan obiektu reprezentującego listę. W sensie ścisłym nie jest to już programowanie funkcyjne (czy deklaratywne). Jednak w Pythonie pozwalamy sobie na takie odejścia od ortodoksji, gdyż Python nie jest językiem funkcyjnym. Nie jest to też uważane za zły styl programowania, bo zmiany stanu mają charakter lokalny: zmieniamy stan listy, którą utworzyliśmy specjalnie do wykonania operacji reduce.\n",
    "Inną sprawą byłoby zmienianie stanu jakiegoś globalnego obiektu - tego wciąż unikamy!\n",
    "\n",
    "Inną funkcją, która mogłaby się przydać przy podwajaniu, jest `iadd`. Zmienia ona listę w miejscu i zwraca (zmienioną) listę. Operację `iadd` można rozumieć jako istotną część dodawania w miejsu `l += <wyr>`, które w całości jest mniej więcej tym co `l = iadd(l, <wyr>)`. Podwajanie z użyciem `iadd` można zapisać tak:"
   ]
  },
  {
   "cell_type": "code",
   "execution_count": null,
   "id": "fb35a038-e985-47c0-825c-f2cf2b011db4",
   "metadata": {},
   "outputs": [],
   "source": [
    "reduce(lambda l,x: operator.iadd(l, [x,x]), range(0,7), [])"
   ]
  },
  {
   "cell_type": "markdown",
   "id": "99a9a44f-b1ef-4a02-8160-043beb2b142e",
   "metadata": {},
   "source": [
    "Samego `iadd` można użyć do efektywnego \"rozpłaszczenia\" listy list: "
   ]
  },
  {
   "cell_type": "code",
   "execution_count": null,
   "id": "aa048bd2-c5fb-4b55-be1d-a526fa67fc34",
   "metadata": {},
   "outputs": [],
   "source": [
    "print(reduce(operator.iadd, [[1,2,3],[4,5,6],[],[7,8]], []))\n",
    "# print(len(reduce(operator.iadd, ([n,n+1] for n in range(0, 40_000, 2)), [])))\n",
    "# print(len(reduce(operator.add, ([n,n+1] for n in range(0, 40_000, 2)), [])))"
   ]
  },
  {
   "cell_type": "markdown",
   "id": "70065d1f-762f-4fa5-9d0b-81016d471c85",
   "metadata": {},
   "source": [
    "O efektywności modyfikacji w miejscu w porównaniu ze zwykłym dodawaniem list (które tym razem można zastąpić przez `operator.add`) można się przekonać odkomentowując dwie linijki w powyższej kratce. Zamiast `add` i `iadd` można też użyć równoważnych `concat` i `iconcat`, których nazwy, w przeciwieństwie do `add` i `iadd`, sugerują łączenie sekwencji, a nie \"jakieś\" dodawanie :)"
   ]
  },
  {
   "cell_type": "markdown",
   "id": "8eb5945d-250d-4bcf-8713-8ffc3f51ed10",
   "metadata": {},
   "source": [
    "Kolejnym interesującym operatorem jest `itemgetter`. Odpowiada on w zasadzie `getitem`, przy czym argumenty ma w innej kolejności i w dodatku podzielone \"na pół\". Dokładniej, aby wykonać `a[i]` jako wywołanie funkcji, możemy napisać `getitem(a,i)`, albo `itemgetter(i)(a)` - wartość wyrażenia `itemgetter(i)` to funkcja, która jak dostanie parametr `a`, to zwróci `a[i]`. Przydaje się to np. w następujących okolicznościach:"
   ]
  },
  {
   "cell_type": "code",
   "execution_count": null,
   "id": "cc8c1909-7471-4d86-afd4-818ded715d2f",
   "metadata": {},
   "outputs": [],
   "source": [
    "sorted([(\"ma\", 3), (\"kota\",8), (\"ala\", 1), (\"wściekłego\", 6)], key=operator.itemgetter(1)) "
   ]
  },
  {
   "cell_type": "markdown",
   "id": "28e830ec-6656-489f-b44a-10527f2114c9",
   "metadata": {},
   "source": [
    "Argumentami funkcji `itemgetter` mogą być też slice'y i argumentów może być kilka - wynikiem jest wtedy tupla, np:"
   ]
  },
  {
   "cell_type": "code",
   "execution_count": null,
   "id": "257c9aae-99b3-4c8a-bec2-6107fee18fb1",
   "metadata": {},
   "outputs": [],
   "source": [
    "operator.itemgetter(1, slice(4,6), -2)(\"ala ma kota\")"
   ]
  },
  {
   "cell_type": "markdown",
   "id": "34cda5e3-d928-4bba-b313-1566620982dd",
   "metadata": {},
   "source": [
    "Oprócz używania funkcji `itemgetter` do sekwencji, można jej używać do słowników - wtedy argumentami są obiekty będącymi nazwami pól, np:"
   ]
  },
  {
   "cell_type": "code",
   "execution_count": null,
   "id": "483b5e84-dd92-4242-9612-ad09e34c2073",
   "metadata": {},
   "outputs": [],
   "source": [
    "operator.itemgetter(1, \"ala\")({1: \"kot\", 18 : \"a kuku\", \"ala\" : 10, \"kota\" : 7})"
   ]
  },
  {
   "cell_type": "markdown",
   "id": "88c8762a-eef9-4008-b971-7e7ae46706c9",
   "metadata": {},
   "source": [
    "Podobną funkcją jest `attrgetter`, ale żeby ją zademonstrować musimy wprowadzić typ nazwanych tupli:"
   ]
  },
  {
   "cell_type": "code",
   "execution_count": null,
   "id": "c8693bd5-4214-416c-83f0-e3e0aa288bf6",
   "metadata": {},
   "outputs": [],
   "source": [
    "from collections import namedtuple\n",
    "Punkt = namedtuple(\"Punkt\", [\"x\", \"y\"])\n",
    "Prostokąt = namedtuple(\"Prostokąt\", [\"ld\", \"pg\"])\n",
    "\n",
    "p = Punkt(10,13)\n",
    "q = Punkt(y=18, x=17)\n",
    "prost = Prostokąt(ld=p, pg=q)\n",
    "\n",
    "print( operator.attrgetter(\"pg\")(prost) )\n",
    "print( operator.attrgetter(\"ld.x\", \"pg.y\")(prost) )"
   ]
  },
  {
   "cell_type": "markdown",
   "id": "da16b7c9-c445-4d73-901d-1f958beb6f2e",
   "metadata": {},
   "source": [
    "Funkcja `attrgetter` dla argumentu postaci `\"a.b.c\"` zwraca funkcję, która dla obiektu `x` wyliczy `x.a.b.c`."
   ]
  },
  {
   "cell_type": "markdown",
   "id": "f7f76ff4-d6c8-4b12-a23e-e9bce4d0b360",
   "metadata": {},
   "source": [
    "## Częściowa aplikacja\n",
    "Uzyteczność operatorów może być znacznie zwiększona poprzez użycie funkcji `partial` z modułu `functools`.\n",
    "Pozwala ona aplikować tylko część argumentów funkcji, a na pozostałe czekać, np:"
   ]
  },
  {
   "cell_type": "code",
   "execution_count": null,
   "id": "d949cb40-9789-4fbc-89a5-15ab9578b9f9",
   "metadata": {},
   "outputs": [],
   "source": [
    "print(list( map(partial(operator.add, 1), [3,4,5]) ))\n",
    "print(list( map(partial(operator.getitem, \"ala ma kota\"), [1, slice(4,6), -2]) ))\n",
    "print(list( filter(partial(operator.lt, 0), range(-5,5)) ))"
   ]
  },
  {
   "cell_type": "markdown",
   "id": "680b5104-9425-4dad-8928-56e099df478a",
   "metadata": {},
   "source": [
    "Ostatni przykład może być trochę mylący, bo nie chodzi o elementy, które są \"lt od 0\" tylko o te elementy `x`, które spełniają `lt 0 x`, czyli `0 < x` :)\n",
    "\n",
    "Oczywiście trudno przekonywać, że definicje te, używające dość długich nazw funkcji są bardziej przejrzyste od krótkich wyrażeń lambda, ale warto wiedzieć o możliwości użycia funkcji `partial`, choćby w celu łatwiejszego przeczytania cudzego kodu."
   ]
  },
  {
   "cell_type": "markdown",
   "id": "01c8da94-241f-4e3c-aec5-182f0245dfad",
   "metadata": {},
   "source": [
    "### Ćwiczenie 2\n",
    "Za pomoca `tee` `starmap`, `pow`, `chain` `partial` i `repeat` :) napisz funkcję, która iterator par `(a,b)` zamienia na iterator trójek `(a,b,c)` gdzie `c` to `a**b`. Staraj się (dla sportu :) nie używać wyrażeń lambda operujących na elementach iteratorów, zamiast tego używaj odopwiednich operatorów i ewentualnie funkcji `partial`.\n",
    "\n",
    "Aby umieścić (w drugiej wersji rozwiązania) wszystko w jednym wyrażeniu lambda (choć będzie to zdecydowanie zbyt rozbudowane wyrażenie ;) możesz użyć następującego triku pozwalającego na kilkukrotne użycie wartości skomplikowanego podwyrażenia:  \n",
    "`(lambda w: ..w..w.. )(podwyrażenie)`  \n",
    "np.  \n",
    "`(lambda c: c[0] + c + c[1])( (\"ala m\" + \"a kota\")[4:6] )`  \n",
    "daje w wyniku napis `\"mmaa\"`."
   ]
  },
  {
   "cell_type": "code",
   "execution_count": null,
   "metadata": {},
   "outputs": [],
   "source": [
    "def newIterator(pair):\n",
    "    return (pair[0], pair[1], operator.mul(pair[0],pair[1]))\n"
   ]
  },
  {
   "cell_type": "markdown",
   "id": "195df7d3-337f-4177-8b20-f802e5535642",
   "metadata": {
    "editable": true,
    "slideshow": {
     "slide_type": ""
    },
    "tags": []
   },
   "source": [
    "## Generatory i iteratory dokładniej\n",
    "\n",
    "Przez dużą część dzisiejszego scenariusza mówiliśmy o iteratorach, a na poprzednich zajęciach używaliśmy z kolei pojęcia generatora. Iterator to najbardziej abstrakcyjne pojęcie, oznacza dowolny obiekt ze stanem, z którego za pomocą wbudowanej procedury `next` można \"wyciągać\" kolejne elementy, aż do opróżnienia iteratora, które sygnalizowane jest odpowiednim wyjątkiem `StopIteration`. Zwykle nie używamy `next` bezpośrednio i nie łapiemy wyjątku, tylko robi to za nas np. `for`, albo `list(...)`. Generator z kolei to rodzaj iteratora, który jest specjalnym wyrażeniem lub funkcją.\n",
    "\n",
    "Ostatnim pojęciem z tej rodzinki jest \"obiekt iterowalny\" (ang. *iterable*) i jest to dowolny obiekt, często struktura danych (lista, krotka, range, ...), może być bezstanowa, z której za pomocą `iter` można wyprodukować iterator.\n",
    "\n",
    "Oczywiście każdy iterator też jest iterable, `iter` jest w tym przypadku po prostu identycznością."
   ]
  },
  {
   "cell_type": "markdown",
   "id": "e821f43e-1746-46a6-bfc0-b9a2b6c42a88",
   "metadata": {},
   "source": [
    "Instrukcja `for x in <iterable>: <przetwórz x>` jest zaimplementowana mniej więcej tak:"
   ]
  },
  {
   "cell_type": "code",
   "execution_count": null,
   "id": "9b8bf3c9-d7b7-4f74-a692-707c562eb2c0",
   "metadata": {},
   "outputs": [],
   "source": [
    "g = range(3) # <iterable>\n",
    "i = iter(g)  # iterator ustawiony na początek\n",
    "while True:\n",
    "    try:\n",
    "        x = next(i)  # próba pobrania kolejnego elementu z iteratora\n",
    "    except StopIteration:\n",
    "        break        # iterator opróżniony - wychodzimy z pętli\n",
    "    print(x) # <przetwórz x>\n",
    "# koniec"
   ]
  },
  {
   "cell_type": "markdown",
   "id": "3ad3265c-5bf3-4352-8990-62d6e0e50b81",
   "metadata": {},
   "source": [
    "Podobnie wyglądałaby implementacja np. `list(<iterable>)`."
   ]
  },
  {
   "cell_type": "markdown",
   "id": "85c34d8b-d165-4863-a959-3390a3f70cdf",
   "metadata": {},
   "source": [
    "Bardzo ciekawa jest obserwacja \"połączenia\" iteratora ze zmienialną strukturą danych: "
   ]
  },
  {
   "cell_type": "code",
   "execution_count": null,
   "id": "c2cc5d95-50f5-4353-a22f-2ae830d13318",
   "metadata": {},
   "outputs": [],
   "source": [
    "def może_next(i):\n",
    "    try:\n",
    "        print(next(i))\n",
    "    except Exception as e:\n",
    "        print(\"Wyjątek\", type(e).__name__, e)\n",
    "\n",
    "g = [0,1]\n",
    "może_next(g)    # nie działa - to nie iterator :)\n",
    "i = iter(g)     # to iterator\n",
    "może_next(i)    # działa\n",
    "może_next(i)    # teraz jesteśmy \"na końcu iteratora\", ale...\n",
    "print(\"Powiększamy\")\n",
    "g += [2,3]\n",
    "może_next(i)    # znów możemy czerpać :)\n",
    "może_next(i)  \n",
    "może_next(i)    # a teraz \"przechodzimy przez koniec\"...\n",
    "print(\"Powiększamy\")\n",
    "g += [4,5]\n",
    "może_next(i)    # i to oznacza definitywny koniec iterowania :("
   ]
  },
  {
   "cell_type": "markdown",
   "id": "a5ebb86c-06ea-43f8-80d5-bf042a620fc1",
   "metadata": {},
   "source": [
    "### Generatory\n",
    "\n",
    "Własny iterator możemy zbudować za pomocą *generator expression*:"
   ]
  },
  {
   "cell_type": "code",
   "execution_count": null,
   "id": "23cbaa9d-b0c9-40b7-9ed0-c23a75960ada",
   "metadata": {},
   "outputs": [],
   "source": [
    "g = (x*x for x in range(4))\n",
    "print(iter(g) is g)\n",
    "print(next(g))\n",
    "print(next(g))\n",
    "print(next(g))\n",
    "print(next(g))\n",
    "print(tuple(g))  # opróżniony :("
   ]
  },
  {
   "cell_type": "markdown",
   "id": "b18086a5-7574-468e-81c9-75f5dcac5fdb",
   "metadata": {},
   "source": [
    "Możemy go też zbudować za pomocą *generator function*, która \"zamiast\" ostatecznego `return` używa nieostateczne `yield`:"
   ]
  },
  {
   "cell_type": "code",
   "execution_count": null,
   "id": "75f5f68a-fb57-4b6d-831d-3a35fb790388",
   "metadata": {},
   "outputs": [],
   "source": [
    "def pierwsze(n):\n",
    "    lista = []\n",
    "    k = 2   # pierwszy kandydat\n",
    "    while len(lista) < n:\n",
    "        for p in lista:            # testujemy kandydata k\n",
    "            if k % p == 0: break   # k odpadł\n",
    "        else:                      # jeśli nie odpadł\n",
    "            lista.append(k)        #   dodajemy go do listy\n",
    "            yield(k)               #   pokazujemy światu\n",
    "        k += 1                     # bierzemy kolejnego kandydata \n",
    "\n",
    "pierw = pierwsze(4)\n",
    "print(next(pierw))\n",
    "print(next(pierw))\n",
    "print(next(pierw))\n",
    "print(next(pierw))\n",
    "print(tuple(pierw))\n",
    "\n",
    "print(list(pierwsze(20)))"
   ]
  },
  {
   "cell_type": "markdown",
   "id": "4574e85f-da01-4ef4-b8b0-d84f38569ae4",
   "metadata": {
    "editable": true,
    "slideshow": {
     "slide_type": ""
    },
    "tags": []
   },
   "source": [
    "Taki generator to \"jakby\" osobny programik, z własnym lokalnym stanem, który wstrzymuje swoje działanie po każdym `yield` i czeka na ponowne \"popchnięcie\" poprzez `next`. W zasadzie `yield` (podobnie do `return`) nie musi mieć argumentu, \"wyciągnięta\" wartość to wtedy `None`. Historycznie, taki zawieszalny fragment programu nazywa się po polsku [*współprogramem*](https://pl.wikipedia.org/wiki/Wsp%C3%B3%C5%82program) (po angielsku *coroutine*).\n",
    "\n",
    "**Uwaga!** Aby zawołać z wnętrza generatora inny generator (w celu oddania \"jego\" zawartości), należy użyć składni `yield from drugi_generator()`. "
   ]
  },
  {
   "cell_type": "code",
   "execution_count": null,
   "id": "7a82b44f-e3ba-468c-94b0-446e64955779",
   "metadata": {},
   "outputs": [],
   "source": [
    "def liczby_pierwsze(*args):\n",
    "    if len(args) == 1:\n",
    "        #pierwsze(args[0])    # z tym nie zadziała!\n",
    "        yield from pierwsze(args[0])  # a z tym tak!\n",
    "\n",
    "print(list(liczby_pierwsze(10)))"
   ]
  },
  {
   "cell_type": "markdown",
   "id": "2455ecf3-620c-4aa6-974f-d7843072d0b3",
   "metadata": {},
   "source": [
    "Ciekawostka: do wstrzymanego (przez `yield`) generatora możemy przekazać jakiś obiekt, gdy zamiast `next` użyje się `send`. Generator odbiera ten obiekt poprzez złapanie wartości `yield`:"
   ]
  },
  {
   "cell_type": "code",
   "execution_count": null,
   "id": "43122433-ed7b-4dd8-abaa-d3577e8a3618",
   "metadata": {},
   "outputs": [],
   "source": [
    "def sumowanie():\n",
    "    s = 0\n",
    "    while True:\n",
    "        x = yield s   # wysyłamy s, czekamy..... odbieramy x\n",
    "        if x is None: # albo i nie odbieramy :)\n",
    "            s += 1\n",
    "        else:\n",
    "            s += x\n",
    "\n",
    "gen = sumowanie()\n",
    "print(next(gen))  # równoważne z gen.send(None)\n",
    "print(next(gen))\n",
    "print(gen.send(10))\n",
    "print(next(gen))\n",
    "print(gen.send(100))\n",
    "print(next(gen))"
   ]
  },
  {
   "cell_type": "markdown",
   "id": "12c76632-4c27-4467-9828-9d194f953509",
   "metadata": {},
   "source": [
    "### Ćwiczenie 3\n",
    "Drzewa binarne można w Pythonie reprezentować w następujący sposób: puste drzewo to `None`, niepuste drzewo, czyli takie, które składa się z jakiegoś elementu `el` umieszczonego w korzeniu oraz dwóch poddrzew to trójka `(lewe,el,prawe)`.\n",
    "\n",
    "Napisz dwuargumentową funkcję `zrob_drzewo`, która z danego iterabla \"wyciągnie\" daną liczbę elementów (niekoniecznie wszystkie na raz!) i stworzy z nich drzewo zrównoważone.\n",
    "Kolejność elementów w drzewie może być dowolna, byle sensowna (patrz niżej), ale najlepiej, żeby była to kolejność *inorder*. Czyli `zrob_drzewo(7, \"alakota\")` powinno dać drzewo  \n",
    "`(((None,'a',None),'l',(None,'a',None)),'k',((None,'o',None),'t',(None,'a',None)))`\n",
    "\n",
    "Napisz funkcję `obejdź` z parametrem \"typu\" drzewo oraz paramerami boolowskimi `preorder`, `inorder`, `postorder`, o domyślnych wartościach `False`, która:\n",
    "* upewni się, że dokładnie jeden z trzech argumentów jest prawdą, reszta fałszem;\n",
    "* wyprodukuje iterator po elementach drzewa w obejściu zgodnym z żądaną kolejnością.\n",
    "\n",
    "Zrób to dwa razy: raz używając `yield` i `yield from`, a raz używając funkcji `chain` (i może `repeat`) z modułu `itertools`."
   ]
  },
  {
   "cell_type": "code",
   "execution_count": null,
   "metadata": {},
   "outputs": [],
   "source": []
  },
  {
   "cell_type": "markdown",
   "id": "a616ff61-f819-4145-9654-2bdf7890fa2a",
   "metadata": {},
   "source": [
    "## Dekoratory\n",
    "\n",
    "Na pewno w którymś momencie swojej Pythonowej kariery spotkacie się z jakąś taką `@dekoracją` przed definicją funkcji: "
   ]
  },
  {
   "cell_type": "code",
   "execution_count": null,
   "id": "0e3e92fc-b357-4143-97e2-5b0d549886c9",
   "metadata": {},
   "outputs": [],
   "source": [
    "@cache\n",
    "def fibC(n):\n",
    "    print(f\"debug: fibC({n})\")\n",
    "    return fibC(n-1) + fibC(n-2) if n >= 2 else n\n",
    "\n",
    "print(f\"Fib(4) to {fibC(4)}.\")\n",
    "print(f\"Fib(6) to {fibC(6)}.\")\n",
    "print(f\"Fib(5) to {fibC(5)}.\")"
   ]
  },
  {
   "cell_type": "markdown",
   "id": "95b3ee84-9241-4579-aecd-eba8034af3db",
   "metadata": {},
   "source": [
    "Widać co tu się stało: dekoracja `@cache` spowodowała spamiętywanie wartości kolejnych wywołań funkcji `fibC`. Ale jak to się stało? Otóż składnia z \"dekoratorem\" jest lukrem syntaktycznym do czegoś takiego: "
   ]
  },
  {
   "cell_type": "code",
   "execution_count": null,
   "id": "9721075b-3cef-4f60-828f-4e2d69e2fb68",
   "metadata": {},
   "outputs": [],
   "source": [
    "def fibL(n):\n",
    "    print(f\"debug: fibL({n})\")\n",
    "    return fibL(n-1) + fibL(n-2) if n >= 2 else n\n",
    "\n",
    "fibL = cache(fibL)"
   ]
  },
  {
   "cell_type": "markdown",
   "id": "bc5090f4-ec08-4091-8fd9-cd6e28a21bdd",
   "metadata": {},
   "source": [
    "A funkcja (wyższego rzędu) `cache` pochodzi z modułu `functools` i jest [opisana tutaj](https://docs.python.org/3/library/functools.html#functools.cache). Jej argumentem jest (oryginalna) funkcja, a wynikiem funkcja, która obsługuje cache, niekiedy wołając funkcję oryginalną. Uproszczona wersja tego dekoratora mogłaby wyglądać tak:"
   ]
  },
  {
   "cell_type": "code",
   "execution_count": null,
   "id": "67dbe6aa-0440-42b6-b310-5cd38fae09f4",
   "metadata": {},
   "outputs": [],
   "source": [
    "def kesz(f):\n",
    "    mem = {}\n",
    "    def lepsza_f(n):\n",
    "        if n not in mem: mem[n] = f(n)\n",
    "        return mem[n]\n",
    "    return lepsza_f\n",
    "\n",
    "@kesz\n",
    "def fibK(n):\n",
    "    print(f\"debug: fibK({n})\")\n",
    "    return fibK(n-1) + fibK(n-2) if n >= 2 else n\n",
    "\n",
    "# To działa!\n",
    "print(f\"Fib(4) to {fibK(4)}.\")\n",
    "print(f\"Fib(6) to {fibK(6)}.\")\n",
    "print(f\"Fib(5) to {fibK(5)}.\")"
   ]
  },
  {
   "cell_type": "markdown",
   "id": "a86b8d4d-b902-49e2-b9fd-f382546acf8e",
   "metadata": {},
   "source": [
    "### Ćwiczenie 4\n",
    "Napisz dekorator `@odpluskw`, który przed każdym wywołaniem dekorowanej funkcji wypisuje wszystkie argumenty wywołania, a po powrocie wynik."
   ]
  },
  {
   "cell_type": "code",
   "execution_count": null,
   "metadata": {},
   "outputs": [],
   "source": [
    "def odpluskw(f):\n",
    "    def text(*args):\n",
    "        print(\"Arguments >> \", args)\n",
    "        result = f(*args)\n",
    "        print(\"Result >> \", result)\n",
    "        return result\n",
    "    return text\n"
   ]
  },
  {
   "cell_type": "markdown",
   "id": "e93d23e4-19f2-41f5-8af2-a39312ee2a1e",
   "metadata": {},
   "source": [
    "# Zadanie dnia\n",
    "Zadanie dnia polega na zaprogramowaniu rozwiązań trzech ostatnich ćwiczeń z niniejszego scenariusza:\n",
    "\n",
    "2. iterator (a,b) -> iterator (a,b,a**b) za pomocą funkcji z modułów `itertools` i `operator`;\n",
    "3. dekorator służacy do wypisywania parametrów wywołania funkcji i jej wyniku;\n",
    "4. konwersja iterator -> drzewo i obejście drzewa by stworzyć iterator."
   ]
  },
  {
   "cell_type": "code",
   "execution_count": null,
   "id": "636fa935-3a39-4270-94b3-0f223f5c0e2f",
   "metadata": {},
   "outputs": [],
   "source": []
  }
 ],
 "metadata": {
  "kernelspec": {
   "display_name": "Python 3 (ipykernel)",
   "language": "python",
   "name": "python3"
  },
  "language_info": {
   "codemirror_mode": {
    "name": "ipython",
    "version": 3
   },
   "file_extension": ".py",
   "mimetype": "text/x-python",
   "name": "python",
   "nbconvert_exporter": "python",
   "pygments_lexer": "ipython3",
   "version": "3.10.3"
  }
 },
 "nbformat": 4,
 "nbformat_minor": 5
}
