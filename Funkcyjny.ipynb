{
 "cells": [
  {
   "cell_type": "markdown",
   "id": "4fade40e-e0ca-4d07-8427-f2a708d75076",
   "metadata": {},
   "source": [
    "# Elementy programowania funkcyjnego w Pythonie\n",
    "Programowanie funkcyjne to takie, w którym zamiast dawać przepisy jak kolejno zmieniać stan obiektów, aby dojść do stanu pożądanego (to jest esencja programowania imperatywnego), dajemy przepisy jak konstruować nowe wartości ze starych (zwykle używając funkcji), aby dojść do wartości pożądanej. Elementami tego paradygmatu w Pythonie są niezmienialne struktury danych, takie jak napisy, krotki, frozen_set-y itd, ale także dostępność niektórych idiomów programistycznych, charakterystycznych dla \"prawdziwych\" języków funkcyjnych, takich jak Haskell czy OCaml.\n",
    "\n",
    "W tym scenariuszu (i następnym) poznamy niektóre z tych idiomów, część z nich jest podobna do tego, co jest dostępne w Javie."
   ]
  },
  {
   "cell_type": "markdown",
   "id": "e59ce52c-01a6-4e80-8e8e-cef5d68a2588",
   "metadata": {},
   "source": [
    "## Funkcja map\n",
    "\n",
    "Mając daną listę czasem potrzebujemy przetworzyć jej elementy i wyniki tego przetworzenia zebrać do nowej listy. Załóżmy, że potrzebujemy każdemu napisowi na liście przypisać największą liczbę parzystą niewiększą niż długość tego napisu."
   ]
  },
  {
   "cell_type": "code",
   "execution_count": 4,
   "id": "7bc4f811-f091-43b0-9a13-984147d527e9",
   "metadata": {},
   "outputs": [
    {
     "name": "stdout",
     "output_type": "stream",
     "text": [
      "2 4\n"
     ]
    }
   ],
   "source": [
    "def prawie_długość(s):\n",
    "    l = len(s)\n",
    "    if l % 2 == 1:\n",
    "        return l - 1\n",
    "    else:\n",
    "        return l\n",
    "print(prawie_długość(\"ala\"), prawie_długość(\"kota\"))"
   ]
  },
  {
   "cell_type": "markdown",
   "id": "02e2d17d-f083-4e93-990b-c19c9032b604",
   "metadata": {},
   "source": [
    "Samo przerabianie listy napisów na odp. listę liczb można w Pythonie zrobić na (co najmniej :) trzy różne sposoby.\n",
    "### Sposób 1 (tradycyjnie)"
   ]
  },
  {
   "cell_type": "code",
   "execution_count": 5,
   "id": "4c10bc76-fa69-489a-9775-e8ab9b07ba35",
   "metadata": {},
   "outputs": [
    {
     "data": {
      "text/plain": [
       "['Ala', 'zaadaptowała', 'strasznie', 'zabawnego', 'kota']"
      ]
     },
     "execution_count": 5,
     "metadata": {},
     "output_type": "execute_result"
    }
   ],
   "source": [
    "lista_napisów = \"Ala zaadaptowała strasznie zabawnego kota\".split()\n",
    "lista_napisów"
   ]
  },
  {
   "cell_type": "code",
   "execution_count": 6,
   "id": "89e68e6e-a0ae-40cc-a553-5ba9a2ea8bdf",
   "metadata": {},
   "outputs": [
    {
     "data": {
      "text/plain": [
       "[2, 12, 8, 8, 4]"
      ]
     },
     "execution_count": 6,
     "metadata": {},
     "output_type": "execute_result"
    }
   ],
   "source": [
    "l = []\n",
    "for s in lista_napisów:\n",
    "    l.append(prawie_długość(s))\n",
    "l"
   ]
  },
  {
   "cell_type": "markdown",
   "id": "2518edd7-98d4-4d42-9579-c6405813e2ed",
   "metadata": {},
   "source": [
    "Ten sposób ma trzy linijki, z czego mniej więcej dwie to boilerplate code, czyli kod \"nudny, niewiele wnoszący, powtarzalny, zaśmiecający i zaciemniający czytelność [...]. Mimo to nie można z niego zrezygnować, ponieważ jest zwyczajnie potrzebny, łącząc w spójną całość pozostałe fragmenty aplikacji.\" (żródło: [pierwszy link z google'a](https://stormit.pl/boilerplate-code/)).\n",
    "\n",
    "Sposób ten jest bardzo imperatywny w swej naturze - każdy obrót pętli zmiania stan obiektu (listy) przypisanego do zmiennej `l`.\n",
    "\n",
    "### Sposób 2 (list comprehension)"
   ]
  },
  {
   "cell_type": "code",
   "execution_count": 7,
   "id": "76403b3c-16af-47c5-97a3-7270b2d46a3d",
   "metadata": {},
   "outputs": [
    {
     "data": {
      "text/plain": [
       "[2, 12, 8, 8, 4]"
      ]
     },
     "execution_count": 7,
     "metadata": {},
     "output_type": "execute_result"
    }
   ],
   "source": [
    "[prawie_długość(s) for s in lista_napisów]"
   ]
  },
  {
   "cell_type": "markdown",
   "id": "23ad3dae-24a0-45fb-84a9-73c93f697fcd",
   "metadata": {},
   "source": [
    "Tutaj już boilerplate ma tylko ⅓ linijki, więc jest całkowicie akceptowalny. Już na pierwszy rzut oka widać, co ten kod robi. Nie ma tu też żadnej \"zmiany stanu\", po prostu magicznie powstaje lista wynikowa o odpowiednio skonstruowanych elementach.\n",
    "### Sposób 3 (funkcja map)"
   ]
  },
  {
   "cell_type": "code",
   "execution_count": 8,
   "id": "786c3d26-8626-4284-9c20-b1588ff9c798",
   "metadata": {},
   "outputs": [
    {
     "data": {
      "text/plain": [
       "[2, 12, 8, 8, 4]"
      ]
     },
     "execution_count": 8,
     "metadata": {},
     "output_type": "execute_result"
    }
   ],
   "source": [
    "list(map(prawie_długość, lista_napisów))"
   ]
  },
  {
   "cell_type": "markdown",
   "id": "35fed6a6-101f-493e-b3dc-a618d2284f41",
   "metadata": {},
   "source": [
    "Pierwszym argumentem `map` jest funkcja, która będzie zaaplikowana do każdego elementu drugiego argumenty (czyli listy napisów). Ale tak naprawdę drugi argument wcale nie musi być listą, byleby miał elementy, które można z niego \"wyciągać\" (tak jak np. `range(...)`, krotka, itp.). Wynikiem wywołania funkcji `map` też nie jest lista, tylko iterator, podobny do np. `range(...)` (co ma swoje zalety i wady), z którego można zrobić listę, używając konwersji `list(...)`. Funkcja `map` jest jednym z najbardziej emblematycznych idiomów programowania funkcyjnego.\n",
    "\n",
    "W naszym przykładzie, funkcję, którą chcemy zaaplikować do każdego elementu listy, zdefiniowaliśmy wcześniej (zajęło nam to całe 6 linijek ;) ale często operacja, którą chcemy zastosować jest albo bardzo prosta, albo zdefiniowana, ale \"nie do końca\". Na przykład jeśli chcielibyśmy policzyć liczbę wystąpień literki `a` w poszczególnych napisach z listy, to mamy gotową funkcję `count`, ale musimy do niej dołożyć informację, że chodzi o literkę `a`. Tradycyjny sposób to oczywiście zdefiniowanie odpowiedniej funkcji:"
   ]
  },
  {
   "cell_type": "code",
   "execution_count": 9,
   "id": "259028e3-c570-45c8-8a86-75c7c521834b",
   "metadata": {},
   "outputs": [],
   "source": [
    "def licz_a(s):\n",
    "    return s.count('a')"
   ]
  },
  {
   "cell_type": "markdown",
   "id": "ba7b1947-aec6-4a12-afaf-98041074db83",
   "metadata": {},
   "source": [
    "Ale można też użyć funkcji anonimowej, czyli tzw. *wyrażenia lambda*.\n",
    "## Funkcje anonimowe"
   ]
  },
  {
   "cell_type": "code",
   "execution_count": 10,
   "id": "631bf5f4-2ac8-49cd-8e9c-a173bc49d183",
   "metadata": {},
   "outputs": [
    {
     "data": {
      "text/plain": [
       "[1, 5, 1, 2, 1]"
      ]
     },
     "execution_count": 10,
     "metadata": {},
     "output_type": "execute_result"
    }
   ],
   "source": [
    "list(map(lambda s: s.count('a'), lista_napisów))\n",
    "# funkcja - obiekt"
   ]
  },
  {
   "cell_type": "markdown",
   "id": "79f89f3d-9664-4ef5-a75a-ccd1bdea610a",
   "metadata": {},
   "source": [
    "Funkcje anonimowe zajmują chyba pierwsze miejsce jeśli chodzi o skojarzenia z programowaniem funkcyjnym.  \n",
    "Składnia wyrażeń lambda w Pythonie to `lambda <parametry>: <wyrażenie>`, gdzie `<parametry>` to lista nazw parametrów rozdzielonych przecinkami, które to nazwy mogą oczywiście występować w `<wyrażeniu>`. Zdefiniowana funkcja jest taka jak w definicji:\n",
    "```\n",
    "def anonimowa(<parametry>):\n",
    "    return <wyrażenie>\n",
    "```"
   ]
  },
  {
   "cell_type": "markdown",
   "id": "29a1a333-ce90-4949-8266-ccfda065bfac",
   "metadata": {
    "editable": true,
    "slideshow": {
     "slide_type": ""
    },
    "tags": []
   },
   "source": [
    "### Ćwiczenie 1\n",
    "Oblicz jeszcze raz listę \"prawie długości\" napisów na `liście_napisów` przy użyciu funkcji `map`, zapisując własną wersję funkcji `prawie_długość` za pomocą wyrażenia lambda."
   ]
  },
  {
   "cell_type": "code",
   "execution_count": 16,
   "id": "29ceaa80-2e15-4922-a034-17c40e604c80",
   "metadata": {},
   "outputs": [
    {
     "data": {
      "text/plain": [
       "[2, 12, 8, 8, 4]"
      ]
     },
     "execution_count": 16,
     "metadata": {},
     "output_type": "execute_result"
    }
   ],
   "source": [
    "list(map(lambda s: len(s)-1 if len(s) % 2 == 1 else len(s), lista_napisów))"
   ]
  },
  {
   "cell_type": "markdown",
   "id": "38585cca-f1f5-48a3-8739-f6a049fd68a3",
   "metadata": {},
   "source": [
    "----------\n",
    "Z punktu widzenia Pythona wyrażenia lambda są po prostu wyrażeniami, czyli mogą występować we wszystkich fragmentach programu, tam gdzie pozostałe wyrażenia np. `x+5`. Funkcje reprezentowane przez wyrażenia lambda (a także na wszystkie inne sposoby, np. poprzez nazwy funkcji zdefiniowanych za pomocą `def`) są traktowane przez Python jak wszystkie inne obiekty: można je przypisywać na zmienne, przekazywać do innej funkcji, dawać jako wynik funkcji, trzymać na liście albo w innych strukturach danych, itd."
   ]
  },
  {
   "cell_type": "code",
   "execution_count": 23,
   "id": "32cca192-2a6b-489f-ab9a-72adb9618aa6",
   "metadata": {},
   "outputs": [],
   "source": [
    "import random\n",
    "\n",
    "def przez2(x):\n",
    "    return x//2\n",
    "\n",
    "operacje = [przez2, lambda x: x+1, lambda x: x-1, lambda x: 2*x]\n",
    "\n",
    "def losuj_operację():\n",
    "    los = random.randrange(5)\n",
    "    print(\"Wylosowano:\", los)\n",
    "    if los < len(operacje):\n",
    "        return operacje[los]\n",
    "    else:\n",
    "        return lambda x: 0"
   ]
  },
  {
   "cell_type": "code",
   "execution_count": 24,
   "id": "d1f0b807-997c-4bae-ac16-c35079ca05ff",
   "metadata": {},
   "outputs": [
    {
     "name": "stdout",
     "output_type": "stream",
     "text": [
      "Wylosowano: 2\n"
     ]
    },
    {
     "data": {
      "text/plain": [
       "[-1, 0, 1, 2, 3, 4, 5, 6, 7, 8]"
      ]
     },
     "execution_count": 24,
     "metadata": {},
     "output_type": "execute_result"
    }
   ],
   "source": [
    "# za każdym odpaleniem losujemy funkcję, ale tę samą dla wszystkich liczb z range\n",
    "list(map(losuj_operację(), range(10)))"
   ]
  },
  {
   "cell_type": "code",
   "execution_count": 10,
   "id": "a44ddacb-da02-4775-861a-7b1d0d25646e",
   "metadata": {},
   "outputs": [
    {
     "data": {
      "text/plain": [
       "[-1, 2, 3, 6, 8, 2, 12, 6, 7, 8]"
      ]
     },
     "execution_count": 10,
     "metadata": {},
     "output_type": "execute_result"
    }
   ],
   "source": [
    "# dla każdej liczby z range osobne losowanie operacji\n",
    "list(map(lambda x: operacje[random.randrange(4)](x), range(10)))"
   ]
  },
  {
   "cell_type": "markdown",
   "id": "80df4913-ba8d-48d7-944c-775e3e4aab9a",
   "metadata": {},
   "source": [
    "*Dygresja*: `random.randint(x,y)` to \"jedyna\" funkcja w Pythonie, która traktuje przedział liczb całkowitych jako obustronnie domknięty. Dlatego tu użyliśmy funkcji `random.randrange`, która przyjmuje parametr(y) tak jak `range`."
   ]
  },
  {
   "cell_type": "markdown",
   "id": "c26c8309-0e85-4841-82fb-95edb87d5585",
   "metadata": {},
   "source": [
    "### Różne użyteczne rzeczy w lambdach i nie tylko\n",
    "#### Wyrażenie warunkowe\n",
    "Bardziej użyteczną rzeczą od losowania funkcji :) jest *wyrażenie warunkowe* (to nie jest to samo, co *instrukcja* warunkowa, którą poznaliśmy wcześniej). Wyrażenie warunkowe w Pythonie ma składnię:\n",
    "\n",
    "`<wyrażenie1> if <warunek> else <wyrażenie2>`  \n",
    "\n",
    "co na polski tłumaczylibyśmy `<wyrażenie1>` o ile `<warunek>` wpp `<wyrażenie2>`. \n",
    "\n",
    "W C/C++/Javie byłoby to oczywiście `(<warunek> ? <wyrażenie1> : <wyrażenie2>)`. W Pythonie kolejność elementów jest na pierwszy rzut oka trochę dziwna, ale ta konstrukcja przewidziana jest na sytuacje, gdy warunek raczej jest spełniony :) np:"
   ]
  },
  {
   "cell_type": "code",
   "execution_count": 25,
   "id": "d6a88b1e-63f3-4ba3-aa0e-d9c032b2c7f3",
   "metadata": {},
   "outputs": [
    {
     "data": {
      "text/plain": [
       "['zero!', 'a', 'aa', 'aaa', 'aaaa']"
      ]
     },
     "execution_count": 25,
     "metadata": {},
     "output_type": "execute_result"
    }
   ],
   "source": [
    "list(map(lambda x: 'a'*x if x else \"zero!\", range(5)))"
   ]
  },
  {
   "cell_type": "markdown",
   "id": "22dc345c-d99c-483c-9ba6-f4f20004806b",
   "metadata": {},
   "source": [
    "To \"dziwna\" kolejność elementów wyrażenia warunkowego ma dwie zalety: po pierwsze jest symetryczna (estetyka ;) a po drugie dobrze się komponuje sama ze sobą w przypadku więcej niż jednego warunku:"
   ]
  },
  {
   "cell_type": "code",
   "execution_count": 26,
   "id": "4831ecf6-b72d-463a-af61-82feb4c87644",
   "metadata": {},
   "outputs": [
    {
     "name": "stdout",
     "output_type": "stream",
     "text": [
      "dodatnia\n"
     ]
    }
   ],
   "source": [
    "x = 42\n",
    "print(\"ujemna\" if x < 0 else \"zero\" if x == 0 else \"dodatnia\")"
   ]
  },
  {
   "cell_type": "markdown",
   "id": "92e97341-226d-42a4-990a-d0d46deac4be",
   "metadata": {},
   "source": [
    "Oczywiście wyrażenie warunkowe wcale nie musi występować w lambdzie. Ale tu jest szczególnie użyteczne, bo w \"ciele\" lambdy nie może być instrukcji.\n",
    "\n",
    "Oczywiście jak się bardzo chce, to każde ograniczenie można obejść, choćby poprzez wywołanie funkcji. "
   ]
  },
  {
   "cell_type": "markdown",
   "id": "5334ead1-3f9a-4b81-ab3e-1de547f6a695",
   "metadata": {},
   "source": [
    "#### Jak zrobić print w lambdzie?\n",
    "Prostym (i często przydatnym np. do debugowania) sposobem obchodzenia ograniczenia składniowego wyrażeń lambda jest tworzenie \"tymczasowych\" krotek, np:"
   ]
  },
  {
   "cell_type": "code",
   "execution_count": 27,
   "id": "25e37bc0-bbd1-4272-8a6f-8b3e9542d7d8",
   "metadata": {},
   "outputs": [
    {
     "name": "stdout",
     "output_type": "stream",
     "text": [
      "Tu lambda: 0\n",
      "Tu lambda: 1\n",
      "Tu lambda: 2\n",
      "Tu lambda: 3\n",
      "Tu lambda: 4\n"
     ]
    },
    {
     "data": {
      "text/plain": [
       "[1, 2, 3, 4, 5]"
      ]
     },
     "execution_count": 27,
     "metadata": {},
     "output_type": "execute_result"
    }
   ],
   "source": [
    "list(map(lambda x: (print(\"Tu lambda:\", x), x+1)[1], range(5)))"
   ]
  },
  {
   "cell_type": "markdown",
   "id": "c19b706d-c99c-4a3a-9a00-f4927b282baf",
   "metadata": {},
   "source": [
    "W ciele lambdy tworzymy na chwilę krotkę, której elementem o indeksie 0 jest *wynik* funkcji `print` (czyli `None`), a elementem o indeksie 1 jest właściwa wartość, którą wybieramy z krotki jako wynik całej lambdy. Inną konstrukcją o podobnej funkcji jest np. operator alternatywy: `print(x) or x+1` również spełni nasze oczekiwania, ponieważ `None` zwrócony przez `print` jest traktowane jak fałsz, a w tym przypadku wartość alternatywy to wprost wartość drugiego członu (wcale niekoniecznie `True` lub `False`).\n",
    "\n",
    "Należy jednak pamiętać, że elementy programowania funkcyjnego, w tym w szczególności lambdy, nie są stworzone dla efektów ubocznych, a dla obliczania (nowych) wartości na podstawie argumentów. A zatem używanie efektów ubocznych w tych elementach to raczej zły styl programowania."
   ]
  },
  {
   "cell_type": "markdown",
   "id": "3229b9e5-5c58-4f4a-b605-1c5aea2208e1",
   "metadata": {},
   "source": [
    "### Ćwiczenie 2\n",
    "Wyznacz z pomocą `map` reszty z dzielenia przez 17 kwadratów kolejnych liczb naturalnych mniejszych niż 20. "
   ]
  },
  {
   "cell_type": "code",
   "execution_count": 32,
   "id": "3a87e2e4-1a89-40b1-acb0-1eac5646eb90",
   "metadata": {},
   "outputs": [
    {
     "data": {
      "text/plain": [
       "[0, 1, 4, 9, 16, 8, 2, 15, 13, 13, 15, 2, 8, 16, 9, 4, 1, 0, 1, 4]"
      ]
     },
     "execution_count": 32,
     "metadata": {},
     "output_type": "execute_result"
    }
   ],
   "source": [
    "list(map(lambda n: (n**2)%17, range(20)))"
   ]
  },
  {
   "cell_type": "markdown",
   "id": "6bab7c9d-e367-47b9-b50b-2333eb122956",
   "metadata": {},
   "source": [
    "## Funkcja filter\n",
    "\n",
    "Drugą najpopularniejszą funkcją wyższego rzędu (czyli funkcją, której parametrem jest funkcja) na listach jest `filter`. Służy ona do wybierania z listy elementów spełniających podany predykat, np."
   ]
  },
  {
   "cell_type": "code",
   "execution_count": 33,
   "id": "b2e0b284-4b5b-4ccf-8f52-78d642078fdb",
   "metadata": {},
   "outputs": [],
   "source": [
    "def czy_pal(n):\n",
    "    '''Sprawdza czy reprezentacja tekstowa liczby n jest palindromem.'''\n",
    "    s = str(n)\n",
    "    return s == s[::-1]  # nie do końca efektywne, ale krótkie :)\n",
    "\n",
    "lista_liczb = [1, 10, 11, 121, 1000]"
   ]
  },
  {
   "cell_type": "code",
   "execution_count": 34,
   "id": "d1307e88-1a95-4a38-9c84-f33320dd9521",
   "metadata": {},
   "outputs": [
    {
     "data": {
      "text/plain": [
       "[1, 11, 121]"
      ]
     },
     "execution_count": 34,
     "metadata": {},
     "output_type": "execute_result"
    }
   ],
   "source": [
    "list(filter(czy_pal, lista_liczb))"
   ]
  },
  {
   "cell_type": "markdown",
   "id": "933188c2-a9e5-44e2-8b77-44b28b694f9c",
   "metadata": {},
   "source": [
    "Pierwszym argumentem `filter` jest funkcja (nazwana poprzednio predykatem), która aplikowana jest do kolejnych elementów drugiego argumentu - listy (czy czegoś podobnego) - i wynikiem są tylko te elementy, dla których użyta funkcja daje wynik, który Python traktuje jako \"prawda\" (zwykle po prostu `True`). "
   ]
  },
  {
   "cell_type": "markdown",
   "id": "c25a744a-ffe0-464c-8670-fbb26cf186fc",
   "metadata": {},
   "source": [
    "Podobnie jak w przypadku `map`, wynikiem funkcji `filter` jest iterator (dlatego w przykładach używaliśmy `list(filter(...))`. I znów, podobnie jak w przypadku `map`, użycie funkcji `filter` również można zastąpić innymi technikami: "
   ]
  },
  {
   "cell_type": "code",
   "execution_count": null,
   "id": "36b19182-9a3c-4712-be6f-4b95c1660237",
   "metadata": {},
   "outputs": [
    {
     "data": {
      "text/plain": [
       "[1, 11, 121]"
      ]
     },
     "execution_count": 26,
     "metadata": {},
     "output_type": "execute_result"
    }
   ],
   "source": [
    "# tradycyjnie... prawie 3 linie boilerplate code\n",
    "l = []\n",
    "for n in lista_liczb:\n",
    "    if czy_pal(n):\n",
    "        l.append(n)\n",
    "l"
   ]
  },
  {
   "cell_type": "code",
   "execution_count": null,
   "id": "7377d7a5-1529-48e6-a2a8-58b55306654c",
   "metadata": {},
   "outputs": [
    {
     "data": {
      "text/plain": [
       "[1, 11, 121]"
      ]
     },
     "execution_count": 27,
     "metadata": {},
     "output_type": "execute_result"
    }
   ],
   "source": [
    "# list comprehension, prawie tak samo zgrabnie jak filter\n",
    "[n for n in lista_liczb if czy_pal(n)]"
   ]
  },
  {
   "cell_type": "markdown",
   "id": "0f511cc3-be62-48de-84fd-d8213d8f6bfa",
   "metadata": {},
   "source": [
    "### Ćwiczenie 3\n",
    "Wyznacz wszystkie liczby, które są kwadratami liczb naturalnych mniejszych niż 100 i mają w swojej reprezentacji dwie jedynki pod rząd."
   ]
  },
  {
   "cell_type": "code",
   "execution_count": 56,
   "id": "bd810237-2a99-4bdd-a90d-316ecd2b932a",
   "metadata": {},
   "outputs": [
    {
     "data": {
      "text/plain": [
       "[1156, 2116]"
      ]
     },
     "execution_count": 56,
     "metadata": {},
     "output_type": "execute_result"
    }
   ],
   "source": [
    "list(filter(lambda s: str(s).find('1', str(s).find('1')+1) == str(s).find('1')+1 , map(lambda n: n**2, range(100))))"
   ]
  },
  {
   "cell_type": "markdown",
   "id": "15ad5e75-0400-4e99-bead-41c705a07bfe",
   "metadata": {},
   "source": [
    "## Po co map i filter?\n",
    "Oczywistym jest, że bez `map` i `filter` można żyć. W zasadzie list comprehension to takie połączenie `map` i `filter` i w dodatku dużo osób twierdzi, że list comprehension jest bardziej czytelne, a w większości przypadków również bardziej efektywne. Zaletą `map` i `filter` jest zwięzłość (zwłaszcza w przypadku gdy funkcje stosowane jako parametr już istnieją) oraz łatwość komponowania.\n",
    "\n",
    "Poeksperymentujmy z następującym problemem: podnieśmy do kwadratu wszystkie liczby z jakiegoś dużego przedziału (np. od 0 do 5 milionów), jeśli fortuna nam będzie sprzyjała podnieśmy je jeszcze raz do kwadratu, a następnie wybierzmy z tego te liczby, których zapis dziesiętny jest palindromem.\n",
    "\n",
    "Kod ten, zapisany za pomocą `map` i `filter` będzie wyglądał następująco:"
   ]
  },
  {
   "cell_type": "markdown",
   "id": "14b6b62c-52aa-4ea6-b421-bad2f679f10c",
   "metadata": {},
   "source": [
    "Zauważmy, że ten kod do przedostatniej linijki włącznie, wykonuje się natychmiastowo. Cała praca związana z przetwarzaniem długiej listy odbywa się w ostatniej linii. Ten sam kod z użyciem list comprehension tworzyłby jedną lub dwie pośrednie listy pomocnicze (można to zobaczyć podglądając intepreter Pythona za pomocą polecenia top). Można uniknąć tworzenia list pomocniczych, używając wyrażeń-generatorów, które produkują obiekty analogiczne do tych produkowanych przez `map` i `filter`: "
   ]
  },
  {
   "cell_type": "code",
   "execution_count": null,
   "id": "ab01e057-08c4-4f67-839b-a0fa66d3b295",
   "metadata": {},
   "outputs": [
    {
     "data": {
      "text/plain": [
       "[0,\n",
       " 1,\n",
       " 14641,\n",
       " 104060401,\n",
       " 1004006004001,\n",
       " 10004000600040001,\n",
       " 100004000060000400001,\n",
       " 1000004000006000004000001]"
      ]
     },
     "execution_count": 29,
     "metadata": {},
     "output_type": "execute_result"
    }
   ],
   "source": [
    "l = range(5_000_000)\n",
    "l = (x*x for x in l)\n",
    "if random.choice([True, False]):\n",
    "  l = (x*x for x in l)\n",
    "[x for x in l if czy_pal(x)]"
   ]
  },
  {
   "cell_type": "markdown",
   "id": "d7682744-6c80-4086-a277-31af7487ac95",
   "metadata": {},
   "source": [
    "W tym kodzie również cała praca zostanie wykonana w ostatniej linijce, trudno też mu cokolwiek zarzucić, jeśli chodzi o przejrzystość i łatwość komponowania. Pomijając losowanie, \"tekstowe\" złożenie kilku takich operacji przetwarzających listę nieco lepiej wygląda przy użyciu list comprehension:"
   ]
  },
  {
   "cell_type": "code",
   "execution_count": null,
   "id": "e065d99a-8c0c-46e0-8c50-381d52194f18",
   "metadata": {},
   "outputs": [
    {
     "data": {
      "text/plain": [
       "[0,\n",
       " 1,\n",
       " 14641,\n",
       " 104060401,\n",
       " 1004006004001,\n",
       " 10004000600040001,\n",
       " 100004000060000400001,\n",
       " 1000004000006000004000001]"
      ]
     },
     "execution_count": 30,
     "metadata": {},
     "output_type": "execute_result"
    }
   ],
   "source": [
    "list(filter(czy_pal, map(lambda x: x**4, range(5_000_000))))"
   ]
  },
  {
   "cell_type": "code",
   "execution_count": null,
   "id": "77968a52-3e6c-4f72-b569-f729a8c76f33",
   "metadata": {},
   "outputs": [
    {
     "data": {
      "text/plain": [
       "[0,\n",
       " 1,\n",
       " 14641,\n",
       " 104060401,\n",
       " 1004006004001,\n",
       " 10004000600040001,\n",
       " 100004000060000400001,\n",
       " 1000004000006000004000001]"
      ]
     },
     "execution_count": 31,
     "metadata": {},
     "output_type": "execute_result"
    }
   ],
   "source": [
    "[x**4 for x in range(5_000_000) if czy_pal(x**4)]"
   ]
  },
  {
   "cell_type": "markdown",
   "id": "1d071e9c-0470-41d7-be63-dbe05a1b17cc",
   "metadata": {},
   "source": [
    "Trzeba przy tym zaznaczyć, że byliśmy zmuszeni do dwukrotnego zapisania (i czasem też obliczenia) wyrażenia `x**4` (choć prawdę mówiąc dałoby się tego uniknąć, ale z użyciem konstrukcji, które są całkowicie niezgodne z duchem programowania funkcyjnego, którego fragmenty właśnie poznajemy - dlatego to teraz pomijamy :)."
   ]
  },
  {
   "cell_type": "markdown",
   "id": "593c2a2f-9bc1-4b17-899c-c9f68ea391a4",
   "metadata": {},
   "source": [
    "Gdyby zależało nam na poznaniu nie tylko palindromu, ale też liczby, której czwarta potęga jest palindromem, modyfikacja w wersji list comprehension jest łatwiejsza, choć i w przypadku `map` i `filter` radzimy sobie bez problemu używając par."
   ]
  },
  {
   "cell_type": "code",
   "execution_count": null,
   "id": "1cd2601e-bf33-49e4-ac9b-5f191e310170",
   "metadata": {},
   "outputs": [
    {
     "data": {
      "text/plain": [
       "[(0, 0),\n",
       " (1, 1),\n",
       " (11, 14641),\n",
       " (101, 104060401),\n",
       " (1001, 1004006004001),\n",
       " (10001, 10004000600040001),\n",
       " (100001, 100004000060000400001),\n",
       " (1000001, 1000004000006000004000001)]"
      ]
     },
     "execution_count": 32,
     "metadata": {},
     "output_type": "execute_result"
    }
   ],
   "source": [
    "list(filter(lambda p: czy_pal(p[1]), map(lambda x: (x, x**4), range(5_000_000))))"
   ]
  },
  {
   "cell_type": "code",
   "execution_count": null,
   "id": "c64b6aee-0362-4c9e-8bc8-f302cc172859",
   "metadata": {
    "editable": true,
    "slideshow": {
     "slide_type": ""
    },
    "tags": []
   },
   "outputs": [
    {
     "data": {
      "text/plain": [
       "[(0, 0),\n",
       " (1, 1),\n",
       " (11, 14641),\n",
       " (101, 104060401),\n",
       " (1001, 1004006004001),\n",
       " (10001, 10004000600040001),\n",
       " (100001, 100004000060000400001),\n",
       " (1000001, 1000004000006000004000001)]"
      ]
     },
     "execution_count": 33,
     "metadata": {},
     "output_type": "execute_result"
    }
   ],
   "source": [
    "[(x, x**4) for x in range(5_000_000) if czy_pal(x**4)]"
   ]
  },
  {
   "cell_type": "markdown",
   "id": "728e6f3a-6562-4d7f-b229-53db524bbcca",
   "metadata": {},
   "source": [
    "Reasumując, nie widać specjalnie przewagi `map` i `filter` nad list comprehension, zwłaszcza jeśli pamiętamy, że w przypadku wielu kroków wcale nie musimy generować list pośrednich (możemy używać wyrażeń-generatorów). W dodatku funkcje te uznawane są przez niektórych za *niepytoniczne* (ang. unpythonic :)\n",
    "Zainteresowanych odsyłam do dość obszernego wątku na [stackoverflow](https://stackoverflow.com/questions/1247486/list-comprehension-vs-map).\n",
    "\n",
    "Jeśli chodzi o efektywność, to to jak zwykle zależy. W skrócie, jeśli mamy do wykonania jedną operację i w wyniku potrzebujemy listy, to lepiej używać list comprehension, z wyjątkiem `map(gotowa_funkcja, lista)`. Z kolei używanie wyrażeń generatorów (a konkretnie generowanie z nich końcowych list) jest wyraźnie wolniejsze niż `map` i `filter`. W skrócie: warto te funkcje znać, ale nie ma po co ich zbyt często używać."
   ]
  },
  {
   "cell_type": "markdown",
   "id": "458ac50b-95db-455f-b563-f669f386b7b2",
   "metadata": {},
   "source": [
    "## Ciekawostki o map, filter i nie tylko"
   ]
  },
  {
   "cell_type": "markdown",
   "id": "4795bc77-9639-4a7a-9bcb-35fd29a85815",
   "metadata": {},
   "source": [
    "* Funkcje `map` i `filter` nie produkują list, tylko iteratory. Trzeba z nimi ostrożnie, bo są trochę podobne do list, co może dawać fałszywe poczucie komfortu, a niektóre różnice mogą być zaskakujące:"
   ]
  },
  {
   "cell_type": "code",
   "execution_count": null,
   "id": "ec03f2e0-0b2c-46bd-962f-0069252d564f",
   "metadata": {},
   "outputs": [
    {
     "name": "stdout",
     "output_type": "stream",
     "text": [
      "Pierwszy raz (: 0 1 4 9 16 25 36 :)\n",
      "Drugi raz    (: 0 1 4 9 16 25 36 :)\n"
     ]
    }
   ],
   "source": [
    "l = [x*x for x in range(7)]\n",
    "print(\"Pierwszy raz (:\", *l, \":)\")\n",
    "print(\"Drugi raz    (:\", *l, \":)\")"
   ]
  },
  {
   "cell_type": "code",
   "execution_count": null,
   "id": "8135ea1a-5b2f-4817-92cd-ce2be7e38709",
   "metadata": {},
   "outputs": [
    {
     "name": "stdout",
     "output_type": "stream",
     "text": [
      "Pierwszy raz (: 0 1 4 9 16 25 36 :)\n",
      "Drugi raz    (: :)\n"
     ]
    }
   ],
   "source": [
    "l = map(lambda x: x*x, range(7))\n",
    "print(\"Pierwszy raz (:\", *l, \":)\")\n",
    "print(\"Drugi raz    (:\", *l, \":)\")"
   ]
  },
  {
   "cell_type": "markdown",
   "id": "709699c8-0f09-4c8e-98f0-812286024862",
   "metadata": {},
   "source": [
    "Okazuje się, że iterator stworzony przez `map` jest \"jednorazowy\" (jak Streamy w Javie). Można z niego przeczytać wartości w celu utworzenia listy, albo iterowania pętlą, ale po przeczytaniu wszystkich wartości \"znikają\" one z iteratora. Zauważmy, że to działa podobnie do wczytywania danych z plików wejściowych (w szczególności ze strumieni takich jak np. standardowe wejście).\n",
    "\n",
    "Zaletą iteratorów jest to, że można tanio \"utworzyć\" bardzo długi ciąg, a potem skorzystać tylko z takiej części, jaka jest potrzebna. Niestety, dla iteratorów nie działa przyjemna składnia do wybierania fragmentów (slice'ów) - trzeba użyć odpowiedniej funkcji z biblioteki `itertools`."
   ]
  },
  {
   "cell_type": "code",
   "execution_count": null,
   "id": "529b07a4-97fd-41bd-bf26-c9ffa86cc3cc",
   "metadata": {},
   "outputs": [
    {
     "data": {
      "text/plain": [
       "[0, 1, 4, 9, 16, 25, 36, 49, 64, 81]"
      ]
     },
     "execution_count": 36,
     "metadata": {},
     "output_type": "execute_result"
    }
   ],
   "source": [
    "bardzo_długi_ciąg = map(lambda x: x*x, range(10**100)) # dziesięć do setnej :)\n",
    "\n",
    "import itertools\n",
    "list(itertools.islice(bardzo_długi_ciąg,0,10))"
   ]
  },
  {
   "cell_type": "markdown",
   "id": "35513f1c-006b-46de-b1a8-48139740a229",
   "metadata": {},
   "source": [
    "* Jeśli chcesz odsiać \"nieprawdziwe\" elementy z listy za pomocą `filter`, zamiast funkcji można podać `None`."
   ]
  },
  {
   "cell_type": "code",
   "execution_count": null,
   "id": "dfe7eed0-916b-431a-a2e2-51deb9d5d9de",
   "metadata": {},
   "outputs": [
    {
     "name": "stdout",
     "output_type": "stream",
     "text": [
      "['ala', '', '', 'ma', '', '', '', 'kota']\n"
     ]
    }
   ],
   "source": [
    "dziwna_lista = \"ala   ma    kota\".split(\" \")\n",
    "print(dziwna_lista)"
   ]
  },
  {
   "cell_type": "code",
   "execution_count": null,
   "id": "40065436-2a21-4ee8-b5ab-ecc175df64f6",
   "metadata": {},
   "outputs": [
    {
     "data": {
      "text/plain": [
       "['ala', 'ma', 'kota']"
      ]
     },
     "execution_count": 38,
     "metadata": {},
     "output_type": "execute_result"
    }
   ],
   "source": [
    "list(filter(lambda x: x, dziwna_lista))"
   ]
  },
  {
   "cell_type": "code",
   "execution_count": null,
   "id": "d8e6f5b8-765f-4c9d-bd15-aad9cf426ef5",
   "metadata": {},
   "outputs": [
    {
     "data": {
      "text/plain": [
       "['ala', 'ma', 'kota']"
      ]
     },
     "execution_count": 39,
     "metadata": {},
     "output_type": "execute_result"
    }
   ],
   "source": [
    "list(filter(None, dziwna_lista))"
   ]
  },
  {
   "cell_type": "markdown",
   "id": "8341c6bd-358b-4a10-8435-fa3523cc6c46",
   "metadata": {},
   "source": [
    "* Funkcję `map` można używać również z kilkoma listami i wieloargumentową funkcją:"
   ]
  },
  {
   "cell_type": "code",
   "execution_count": null,
   "id": "4d1b6fcc-8fe3-4621-be25-0f32fe72bda4",
   "metadata": {},
   "outputs": [
    {
     "data": {
      "text/plain": [
       "[41, 32, 23]"
      ]
     },
     "execution_count": 40,
     "metadata": {},
     "output_type": "execute_result"
    }
   ],
   "source": [
    "list(map(lambda x,y: x+y, [1,2,3], [40,30,20,10]))"
   ]
  },
  {
   "cell_type": "markdown",
   "id": "fd5f6d44-d1b5-4afc-a7b4-740e0be3b854",
   "metadata": {},
   "source": [
    "Ten sam efekt można uzyskać za pomocą następującego wyrażenia list comprehension:"
   ]
  },
  {
   "cell_type": "code",
   "execution_count": null,
   "id": "16fdd3c7-29ef-446f-80cb-a322fbe4e91a",
   "metadata": {},
   "outputs": [
    {
     "data": {
      "text/plain": [
       "[41, 32, 23]"
      ]
     },
     "execution_count": 41,
     "metadata": {},
     "output_type": "execute_result"
    }
   ],
   "source": [
    "[x + y for (x,y) in zip([1,2,3], [40,30,20,10])]"
   ]
  },
  {
   "cell_type": "markdown",
   "id": "439063f4-8d16-4f10-a9c2-77abfac32a24",
   "metadata": {},
   "source": [
    "Użyta powyżej operacja `zip` tworzy iterator par złożonych z elementów obu \"list\", dopóki jedna z list się nie skończy."
   ]
  },
  {
   "cell_type": "code",
   "execution_count": null,
   "id": "74653b0d-f2cb-48d1-be61-b381f47c2a57",
   "metadata": {},
   "outputs": [
    {
     "data": {
      "text/plain": [
       "[(0, 100), (1, 90), (2, 80), (3, 70), (4, 60)]"
      ]
     },
     "execution_count": 42,
     "metadata": {},
     "output_type": "execute_result"
    }
   ],
   "source": [
    "list(zip(range(10), range(100,50,-10)))"
   ]
  },
  {
   "cell_type": "markdown",
   "id": "7c0cad69-eedf-40d6-b4bb-3e3277833cc7",
   "metadata": {},
   "source": [
    "* Wyrażenie lambda może mieć zero argumentów. Do czego to może służyć? Nie do `map` albo `filter`, ale na przykład do podania akcji do wykonania w specyficznych okolicznościach."
   ]
  },
  {
   "cell_type": "code",
   "execution_count": null,
   "id": "3a4dca92-fee6-4d39-b76e-adc295d40d35",
   "metadata": {},
   "outputs": [
    {
     "name": "stdout",
     "output_type": "stream",
     "text": [
      "Akcja! ...OK.\n",
      "Akcja! ...AWARIA!!!\n"
     ]
    }
   ],
   "source": [
    "def rób_coś(akcja, w_razie_awarii):\n",
    "    print(\"Akcja! ...\", end=\"\")\n",
    "    if akcja:\n",
    "        print(\"OK.\")\n",
    "    else:\n",
    "        w_razie_awarii()\n",
    "\n",
    "rób_coś(akcja = True, w_razie_awarii = lambda : print(\"AWARIA!!!\"))\n",
    "\n",
    "rób_coś(akcja = False, w_razie_awarii = lambda : print(\"AWARIA!!!\"))"
   ]
  },
  {
   "cell_type": "markdown",
   "id": "d0e9dd21-5600-41cd-8f8e-63e02526cefc",
   "metadata": {},
   "source": [
    "## Funkcja reduce\n",
    "\n",
    "Kolejną ważną funkcją wyższego rzędu na listach jest `reduce`. Nie ma jej wśród funkcji dostępnych \"od razu\", jest w module `functools`."
   ]
  },
  {
   "cell_type": "code",
   "execution_count": 60,
   "id": "098d8c64-c273-4833-82eb-59254035b61a",
   "metadata": {
    "editable": true,
    "slideshow": {
     "slide_type": ""
    },
    "tags": []
   },
   "outputs": [
    {
     "data": {
      "text/plain": [
       "140"
      ]
     },
     "execution_count": 60,
     "metadata": {},
     "output_type": "execute_result"
    }
   ],
   "source": [
    "from functools import reduce\n",
    "reduce(lambda x,y: x*y, [2,10,1,7])"
   ]
  },
  {
   "cell_type": "markdown",
   "id": "ac9e73bf-8b69-453c-8ae9-e6d5b9f5c978",
   "metadata": {},
   "source": [
    "Działanie tej funkcji najlepiej wyobrazić sobie w ten sposób, że \"do listy\" zamiast przecinków wstawiamy * (tym razem to po prostu mnożenie :) i usuwamy `[` klamerki `]`, a zatem otrzymujemy 2 * 10 * 2 * 7. Oczywiście takie tłumaczenie jest dobre tylko dla funkcji łącznej (czyli takiej, której jest wszystko jedno jak wstawimy nawiasy). W przypadku innej funkcji możemy się przekonać, że nawiasy wstawione są \"bardziej z lewej\"."
   ]
  },
  {
   "cell_type": "code",
   "execution_count": 61,
   "id": "f6375f41-3322-4d9f-a0f5-78ec7fbed7b6",
   "metadata": {},
   "outputs": [
    {
     "data": {
      "text/plain": [
       "436"
      ]
     },
     "execution_count": 61,
     "metadata": {},
     "output_type": "execute_result"
    }
   ],
   "source": [
    "reduce(lambda x,y: x-y, [567,100,30,1])"
   ]
  },
  {
   "cell_type": "markdown",
   "id": "08528fa1-4186-42d1-9265-9d63e7df71b1",
   "metadata": {},
   "source": [
    "Wynik to 567-100-30-1, czyli ((567-100)-30)-1. Nazwa `reduce` wzięła się stąd, że dokonujemy \"redukcji\" dwóch wartości do jednej - np. poprzez ich pomnożenie lub odjęcie - i postępujemy tak aż do skutku, czyli aż z całego zestawu zostanie jedna wartość.\n",
    "\n",
    "Ale funkcji `reduce` można dać jeszcze jeden parametr - wartość startową."
   ]
  },
  {
   "cell_type": "code",
   "execution_count": 62,
   "id": "e4186f99-4ff4-46fa-b708-a7e1a9316eb1",
   "metadata": {},
   "outputs": [
    {
     "data": {
      "text/plain": [
       "301"
      ]
     },
     "execution_count": 62,
     "metadata": {},
     "output_type": "execute_result"
    }
   ],
   "source": [
    "reduce(lambda x,y: x-y, [567,100,30,1], 999)"
   ]
  },
  {
   "cell_type": "markdown",
   "id": "e7b3dcfb-a86e-4e1d-9210-d7c543509cff",
   "metadata": {},
   "source": [
    "Teraz wynik to (((999-567)-100)-30)-1. Przy okazji, jak podamy wartość startową, funkcja ma sensowną wartość (właśnie tą startową) dla pustej listy.\n",
    "\n",
    "Nic nie stoi też na przeszkodzie, aby wartość początkowa była zupełnie innego typu niż elemety listy, oczywiście nasza funkcja musi to brać pod uwagę."
   ]
  },
  {
   "cell_type": "code",
   "execution_count": 63,
   "id": "533f1b05-ca6d-43ad-bc9c-5a979fd9da6c",
   "metadata": {},
   "outputs": [
    {
     "data": {
      "text/plain": [
       "{1, 8, 20, 1000, 1001}"
      ]
     },
     "execution_count": 63,
     "metadata": {},
     "output_type": "execute_result"
    }
   ],
   "source": [
    "reduce(lambda s,x: s | {x},  [20,8,8,1,20],  {1000,1001}) "
   ]
  },
  {
   "cell_type": "markdown",
   "id": "798b88e0-0835-421d-823b-1efa66f7a29d",
   "metadata": {},
   "source": [
    "W powyższym przykładzie `|` oznacza operator sumy zbiorów, a wynik to efekt dodawania wszyskich elementów listy do początkowego zbioru. \n",
    "\n",
    "Oczywiście każde działanie robione za pomocą `reduce` można zaprogramować za pomocą pętli po liście i zmieniających się wartości zmiennych, ale - zwłaszcza jak funkcja jest krótka - rozwiązaniom z `reduce` nie można odmówić zwięzłości i elegancji :)"
   ]
  },
  {
   "cell_type": "markdown",
   "id": "4feb69ea-a1e8-43ef-b23d-cb0e27e62cde",
   "metadata": {},
   "source": [
    "### Ćwiczenie 4\n",
    "Napisz funkcję `silnia` za pomocą `reduce`."
   ]
  },
  {
   "cell_type": "code",
   "execution_count": 65,
   "id": "d9bbb34d-7a71-4941-ba5a-795bb56e7ddb",
   "metadata": {},
   "outputs": [],
   "source": [
    "from functools import reduce\n",
    "\n",
    "def silnia(n):\n",
    "    return reduce(lambda x,y: x*y, range(1,n+1))"
   ]
  },
  {
   "cell_type": "markdown",
   "id": "46b39a03-de55-4234-8ca2-52205afd1cbb",
   "metadata": {},
   "source": [
    "### Ćwiczenie 5\n",
    "Napisz za pomocą `reduce` funkcję `sumuj`, która dla danej listy liczb oblicza parę, której pierwsza współrzędna będzie sumą liczb parzystych z tej listy, a druga sumą liczb nieparzystych. Może przydać się tutaj wyrażenie warunkowe (patrz wyżej). Przykłady: `sumuj [1,2,3,4,5] = (6,9)`, `sumuj [1,3,5] = (0,9)`"
   ]
  },
  {
   "cell_type": "code",
   "execution_count": 77,
   "id": "d4bcb71e-c402-4f95-8923-0a5982632278",
   "metadata": {},
   "outputs": [],
   "source": [
    "def sumuj(lista):\n",
    "    return (reduce(lambda x,y: x+y, filter(lambda n: n%2==0, lista)), reduce(lambda x,y: x+y, filter(lambda n: n%2==1, lista)))\n",
    "    "
   ]
  },
  {
   "cell_type": "markdown",
   "id": "19f1130b-a0b0-4bd1-a029-39a47fc7cb8a",
   "metadata": {},
   "source": [
    "## Funkcje opcjonalnie wyższego rzędu\n",
    "\n",
    "Niektóre funkcje działające na ciągach, np. `max`, `min`, `sorted`, mają opcjonalny parametr `key`, który jest funkcją \"wyciągającą\" rzecz do porównania z danego elementu. Tam też wyrażenie lambda może być pomocne. "
   ]
  },
  {
   "cell_type": "code",
   "execution_count": 67,
   "id": "9323d3e6-c772-4b82-b97d-ea830a02c815",
   "metadata": {},
   "outputs": [
    {
     "name": "stdout",
     "output_type": "stream",
     "text": [
      "Ala\n",
      "['Grzegorz', 'powiat', 'Łękołody', 'Brzęczyszczykiewicz', 'Chrząszczyżewoszyce']\n",
      "(1, 2.5)\n"
     ]
    }
   ],
   "source": [
    "print(min(lista_napisów, key=len))\n",
    "print(sorted(\"Grzegorz Brzęczyszczykiewicz Chrząszczyżewoszyce powiat Łękołody\".split(), \n",
    "             key=lambda s: sum(x.lower() in 'aąeęioóuy' for x in s)))\n",
    "print(max([(1, 2.5), (5, 0.7), (8, 1.5)], key=lambda p: p[1]))\n"
   ]
  },
  {
   "cell_type": "markdown",
   "id": "6a685706-1158-4dd0-902f-9d82c1fb1c3c",
   "metadata": {},
   "source": [
    "# Zadanie dnia\n",
    "Napisz program wczytujący plik `.ipynb` (tak naprawdę w formacie json), którego nazwa zostanie podana jako argument wywołania programu. Po wczytaniu należy usunąć policzone wartości ze wszystkich komórek typu \"code\" (z użyciem `map`), a także kod z kratek typu \"code\" znajdujących się bezpośrednio po kratkach typu \"markdown\" zawierających w pierwszej linii ciąg `# Ćwiczenie`. Do tego drugiego usuwania użyj `reduce` z odpowiednią strukturą \"zbierającą\". Po usunięciu należy zapisać całość do nowego pliku `.ipynb`. Jego nazwę utwórz poprzez przekształcenie nazwy piku wejściowego, np. `plik.ipynb` -> `plik.czysty.ipynb`. Plik wynikowy powinien dać się otworzyć w Jupyter Notebook albo Jupyter Lab :)\n",
    "\n",
    "Dla przykładowego pliku pliku wejściowego `plik.ipynb` (zawartość poglądowa):\n",
    "```\n",
    "<kratka markdown>\n",
    "   Ten program wypisuje \"A kuku\".\n",
    "<kratka code>\n",
    "   <kod> print(\"A kuku\")\n",
    "   <wyjście> A kuku\n",
    "<kratka markdown>\n",
    "   ### Ćwiczenie 1\n",
    "   Napisz program wypisujący \"Ala ma kota\".\n",
    "<kratka code>\n",
    "   <kod> print(\"Ala ma kota\")\n",
    "   <wyjście> Ala ma kota\n",
    "```\n",
    "należy utworzyć plik wyjściowy `plik.czysty.ipynb` (w porządnym formacie!) zawierający\n",
    "```\n",
    "<kratka markdown>\n",
    "   Ten program wypisuje \"A kuku\".\n",
    "<kratka code>\n",
    "   <kod> print(\"A kuku\")\n",
    "   <wyjście>\n",
    "<kratka markdown>\n",
    "   ### Ćwiczenie 1\n",
    "   Napisz program wypisujący \"Ala ma kota\".\n",
    "<kratka code>\n",
    "   <kod>\n",
    "   <wyjście>\n",
    "```\n",
    "Szczegóły specyfikacji zadania należy sobie dopracować samemu poprzez inspekcję pliku notebooka z dzisiejszych zajęć (osobiście uzupełnionego o elementy przeznaczone do usunięcia)."
   ]
  },
  {
   "cell_type": "code",
   "execution_count": null,
   "id": "c5202a77-b002-427f-9181-7c94cedf134f",
   "metadata": {},
   "outputs": [],
   "source": []
  }
 ],
 "metadata": {
  "kernelspec": {
   "display_name": "Python 3 (ipykernel)",
   "language": "python",
   "name": "python3"
  },
  "language_info": {
   "codemirror_mode": {
    "name": "ipython",
    "version": 3
   },
   "file_extension": ".py",
   "mimetype": "text/x-python",
   "name": "python",
   "nbconvert_exporter": "python",
   "pygments_lexer": "ipython3",
   "version": "3.10.3"
  }
 },
 "nbformat": 4,
 "nbformat_minor": 5
}
