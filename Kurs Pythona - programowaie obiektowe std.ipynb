{
 "cells": [
  {
   "cell_type": "markdown",
   "id": "ae6f64e4-972b-4323-bf3b-d3b3f645e6e7",
   "metadata": {},
   "source": [
    "**Uwaga techniczna**:<br>\n",
    "W poniższym scenariuszu bardzo istotna jest kolejność wyliczania poszczególnych przykładów, bo często następne korzystają z wyników obliczanych wcześniej. Należy więc po kolei wyliczać wszystkie przykłady.\n",
    "\n",
    "# Wstęp\n",
    "Choć (w przeciwieństwie do np. Javy) nie widać tego na pierwszy (ani nawet drugi) rzut oka, Python jest językiem obiektowym. Jednocześnie, ponieważ Python jest tak bardzo różny od tradycyjnych języków programowania, również realizacja obiektowości jest tu inna niż np. w Javie.\n",
    "\n",
    "Zdefiniujmy najprostszą klasę w Pythonie."
   ]
  },
  {
   "cell_type": "code",
   "execution_count": null,
   "id": "52eb49af-f627-4021-a67e-91586800b822",
   "metadata": {},
   "outputs": [],
   "source": [
    "class ZupełniePusta:\n",
    "    pass"
   ]
  },
  {
   "cell_type": "markdown",
   "id": "44eee2b3-4f93-4f74-89b8-e44735a68863",
   "metadata": {},
   "source": [
    "Zwróćmy uwagę, że w przeciwieństwie do reszty Pythona przy definiowaniu klas zwyczajowo używamy dla identyfikatorów notacji wielbłądziej (CamelCase).\n",
    "\n",
    "Treść klasy oczywiście zaznaczamy wcięciami. W tym przypadku zdefiniowaliśmy klasę o pustej treści. \n",
    "Oczywiście niewiele da się z nią zrobić, ale np. możemy sprawdzić, czym jest dla Pythona identyfikator ZupełniePusta."
   ]
  },
  {
   "cell_type": "code",
   "execution_count": null,
   "id": "bd4fbcbf-233c-44ed-abb9-a14072e151a0",
   "metadata": {},
   "outputs": [],
   "source": [
    "print(ZupełniePusta)"
   ]
  },
  {
   "cell_type": "markdown",
   "id": "a4a669bb-98cb-486c-a6e2-b1b4725d0049",
   "metadata": {},
   "source": [
    "Możemy też tworzyć obiekty tej klasy (i odpytać je o typ)."
   ]
  },
  {
   "cell_type": "code",
   "execution_count": null,
   "id": "6d97b35e-e26d-4009-a2ee-bf3775851058",
   "metadata": {},
   "outputs": [],
   "source": [
    "ob = ZupełniePusta()\n",
    "print(f\"{ob=} {type(ob)=}\")"
   ]
  },
  {
   "cell_type": "markdown",
   "id": "266dba2b-d4ac-4e04-b611-be0ba03c5476",
   "metadata": {},
   "source": [
    "Obiekty tej klasy nie mają czym się różnić, ale jednak są odrębnymi bytami."
   ]
  },
  {
   "cell_type": "code",
   "execution_count": null,
   "id": "03b6678c-b74d-4a14-b850-1c3fe01a4f59",
   "metadata": {},
   "outputs": [],
   "source": [
    "ob2 = ZupełniePusta()\n",
    "print(f\"{ob2=}, {ob == ob2 =}\")"
   ]
  },
  {
   "cell_type": "markdown",
   "id": "770127a0-41c4-4275-a5ca-b498365a708b",
   "metadata": {},
   "source": [
    "Klasy w Pythonie mogą mieć atrybuty. Tak samo jak np. w Javie. Ale sposób ich definiowania jest zupełnie inny. Spróbujmy najpierw czegoś podobnego do Javy i sprawdźmy, dlaczego to nie zadziała (a raczej zadziała inaczej).\n",
    "\n",
    "Stwórzmy klasę Osoba z dwoma atrybutami: `imię` i `nazwisko`."
   ]
  },
  {
   "cell_type": "code",
   "execution_count": null,
   "id": "622780c5-2b8e-49c3-9d16-74b22d0a76c1",
   "metadata": {},
   "outputs": [],
   "source": [
    "class Osoba:\n",
    "    imię\n",
    "    nazwisko"
   ]
  },
  {
   "cell_type": "markdown",
   "id": "c5401794-830b-4d2c-813c-a7cb4d96bf80",
   "metadata": {},
   "source": [
    "To nie zadziała, Python wypisze coś w rodzaju \"NameError: name 'imię' is not defined\".\n",
    "Ale jeśli przypomnimy sobie naszą pierwszą klasę, to sytuacja stanie się jasna: Python oczekuje instrukcji! (Bo `pass` to w Pythonie jak wiemy instrukcja.)\n",
    "Napiszmy je zatem (skoro zmienne wprowadza się przypisaniem, to atrybuty też[^1]).\n",
    "\n",
    "[^1] To jest zresztą prawdą."
   ]
  },
  {
   "cell_type": "code",
   "execution_count": null,
   "id": "d5c14353-d473-4d07-9062-9c44ce5849b4",
   "metadata": {},
   "outputs": [],
   "source": [
    "class Osoba:\n",
    "    imię = \"Ala\"\n",
    "    nazwisko = \"Elementarzowa\""
   ]
  },
  {
   "cell_type": "markdown",
   "id": "4cf51687-5349-4ac1-8d23-e7b30bde169d",
   "metadata": {},
   "source": [
    "Sukces! Python jest zachwycony naszą klasą. Stwórzmy jeszcze obiekt, żeby przekonać się, że wszystko się zgadza."
   ]
  },
  {
   "cell_type": "code",
   "execution_count": null,
   "id": "8c0d8b0f-dd15-433f-9f73-af4923f58098",
   "metadata": {},
   "outputs": [],
   "source": [
    "os = Osoba()\n",
    "print(f\"{os.imię} {os.nazwisko} {os}\")"
   ]
  },
  {
   "cell_type": "markdown",
   "id": "7668aa92-0f39-4613-a36b-433195fb877e",
   "metadata": {},
   "source": [
    "Wszystko działa! Nawet okazuje się, że działa notacja kropkowa przy dostępie do atrybutów.\n",
    "\n",
    "Tylko ... czegoś jednak brakuje przy tworzeniu obiektu (z tym sobie poradzimy). I czemu atrybuty są dostępne (a z tym raczej już nie damy rady sobie poradzić)?\n",
    "Stwórzmy i wypiszmy drugi obiekt `Osoba`."
   ]
  },
  {
   "cell_type": "code",
   "execution_count": null,
   "id": "6756b0e9-920d-4b35-bb6a-ffaae8864a0a",
   "metadata": {},
   "outputs": [],
   "source": [
    "os2 = Osoba()\n",
    "print(f\"{os2.imię} {os2.nazwisko} {os2=} {os == os2}\")"
   ]
  },
  {
   "cell_type": "markdown",
   "id": "33fb95f1-94cb-41f9-accf-fc761752b2cc",
   "metadata": {},
   "source": [
    "Ups, możemy mieć dowolnie wiele osób, byle tylko tak samo się nazywały? Ale może da się coś zmienić? "
   ]
  },
  {
   "cell_type": "code",
   "execution_count": null,
   "id": "ac3a0fa7-ddfd-43c6-af62-9245c06bf70e",
   "metadata": {},
   "outputs": [],
   "source": [
    "os2.imię = \"Ela\"\n",
    "print(f\"{os2.imię} {os2.nazwisko} {os == os2}\")"
   ]
  },
  {
   "cell_type": "markdown",
   "id": "ca6d6b05-1d11-408e-970d-fe0c8a6bdbbe",
   "metadata": {},
   "source": [
    "Działa! A co z pierwszą osobą?"
   ]
  },
  {
   "cell_type": "code",
   "execution_count": null,
   "id": "b6766442-bbc6-40c2-af83-ede5742cf790",
   "metadata": {},
   "outputs": [],
   "source": [
    "print(f\"{os.imię} {os.nazwisko}\")"
   ]
  },
  {
   "cell_type": "markdown",
   "id": "964efbc3-9ed9-493e-9fef-1a0ee4c3965a",
   "metadata": {},
   "source": [
    "Działa!\n",
    "\n",
    "Ale skoro można w treści klasy wpisywać instrukcje, a definicja funkcji jest instrukcją, to może uda się nam tak zdefiniować metody?"
   ]
  },
  {
   "cell_type": "code",
   "execution_count": null,
   "id": "94f87f07-8228-4347-9d10-126959ca5ccc",
   "metadata": {},
   "outputs": [],
   "source": [
    "class Osoba:\n",
    "    imię = \"Ala\"\n",
    "    nazwisko = \"Elementarzowa\"\n",
    "    \n",
    "    def przedstaw_się():\n",
    "        return imię + \" \" + nazwisko\n",
    "\n",
    "os.przedstaw_się()"
   ]
  },
  {
   "cell_type": "markdown",
   "id": "eaf343df-5f5a-4e17-b3a6-86dcb96bd279",
   "metadata": {},
   "source": [
    "Python (być może po ponownym przypisaniu na zmienną os) wypisze coś w rodzaju \"TypeError: Osoba.przedstaw_się() takes 0 positional arguments but 1 was given\".\n",
    "\n",
    "Hm, mimo wytężania wzroku, między '(' a ')' w `os.przedstaw_się()` nic nie widać. Python jest jednak inny :). \n",
    "\n",
    "Pora na uporządkowanie wyników naszych eksperymentów."
   ]
  },
  {
   "cell_type": "code",
   "execution_count": null,
   "id": "3b59a9d7-ddef-4dcc-921f-61fef3475377",
   "metadata": {},
   "outputs": [],
   "source": [
    "print(f\"{os=} {os2=}\")"
   ]
  },
  {
   "cell_type": "markdown",
   "id": "41f2d11f-914c-4c22-bb4f-da1c88d4fc59",
   "metadata": {},
   "source": [
    "# Konstruktory\n",
    "\n",
    "Zacznijmy od konstruktorów (które w Pythonie akurat lepiej by było nazywać ze względu na używaną w Pythonie nazwę i sposób działania inicjalizatorami). \n",
    "Definiujemy je jako metody (funkcje w treści klas, tak jak nasza metoda `przedstaw_się`).\n",
    "Konstruktor musi nazywać się `__init__`. To dość niewygodna nazwa do przeczytania, więc potocznie mówi się w języku angielskim o *dunder[^2] init constructor* (precyzyjne, ale dalej długie) lub o *metodzie (dunder) init* lub po prostu o konstruktorze.\n",
    "Konstruktor zwyczajowo jest pisany jako pierwsza metoda w klasie.\n",
    "Konstruktor (tak jak w Javie) nie daje żadnego wyniku - jego jedynym celem jest zainicjowanie nowego obiektu.\n",
    "Liczba parametrów konstruktora zależy (jak zawsze) od tego ile informacji chcemy przekazać do inicjowanego obiektu. \n",
    "I jest (ta iczba) o jeden większa od tego, ile parametrów potrzebujemy. To na pierwszy rzut oka wygląda dziwnie.\n",
    "\n",
    "Ale zastanówmy się przez chwilę nad dobrze znanym nam z Javy zapisem `obiekt.metoda(argument)`. \n",
    "Ile parametrów ma `metoda`? W zasadzie jeden, bo podano jeden argument.\n",
    "Ale w treści tej metody następuje zapewne odwołanie `atrybut` do atrybutu `obiektu`. To skąd ów obiekt się tam wziął?\n",
    "Wiemy oczywiście, że w Javie takie odwołanie jest skrótem zapisu `this.atrybut`. Ale skąd wzięła się wartośc zmiennej `this`?\n",
    "Musiała być przekazana do metody. Czyli metody (obiektowe, z klasowymi jest inaczej) oprócz wartości swoich argumentów dostają w Javie jeszcze niejawnie dodatkowy argument - wartość `this`.\n",
    "\n",
    "I bardzo podobnie jest w Pythonie, tyle że ten parametr jest podawany jawnie w deklaracji metody. Musi wystąpić na pierwszym miejscu, zwyczajowo nazywa się `self` i w momencie wywołania metody interpreter Pythona przypisze do tego parametru obiekt (dokładniej referencję do obiektu), na rzecz którego metoda jest wykonywana.\n",
    "\n",
    "Czyli, jeśli zadeklarujemy w klasie metodę `m` z parametrami `self` i `n` a potem wywołamy ją `ob.f(13)`, to wartością parametru `self` będzie `ob`, a wartością paramteru `n` będzie `13`.\n",
    "\n",
    "Sprawdźmy to.\n",
    "\n",
    "\n",
    "[^2] dunder = **d**ouble **under**score"
   ]
  },
  {
   "cell_type": "code",
   "execution_count": null,
   "id": "6f474497-fd3b-430a-abed-d5bc2b6cd3ae",
   "metadata": {},
   "outputs": [],
   "source": [
    "class Test:\n",
    "    \n",
    "    def f(self, n):\n",
    "        print(f\"{self=}, {n=}\")\n",
    "        \n",
    "ob = Test()\n",
    "print(f\"{ob=}\")\n",
    "ob.f(13)"
   ]
  },
  {
   "cell_type": "markdown",
   "id": "5bdfb777-d28b-4b24-a9f4-297a5bb97925",
   "metadata": {},
   "source": [
    "Czy w takim razie można napisać `f(ob, 13)`?"
   ]
  },
  {
   "cell_type": "code",
   "execution_count": null,
   "id": "97236af6-7a32-455c-b44b-a18de532e26c",
   "metadata": {},
   "outputs": [],
   "source": [
    "f(ob, 13)"
   ]
  },
  {
   "cell_type": "markdown",
   "id": "1aa1fcaf-cb70-4965-b330-44d34847327d",
   "metadata": {},
   "source": [
    "Nie można (to znaczy można, ale Python wypisze wtedy coś w rodzaju: \"NameError: name 'f' is not defined\").\n",
    "\n",
    "No, ale jeśli bardzo byśmy chcieli? A, wtedy to można."
   ]
  },
  {
   "cell_type": "code",
   "execution_count": null,
   "id": "56dd9ea1-5c34-4707-8d27-c42e0eab10a2",
   "metadata": {},
   "outputs": [],
   "source": [
    "class Test:\n",
    "    \n",
    "    def f(self, n):\n",
    "        print(f\"{self=}, {n=}\")\n",
    "    \n",
    "    def g(ja):  # Można użyć dowolnej nazwy zamiast self, ale zwyczajowo pisze się self\n",
    "        print(f\"g: {ja=}\")\n",
    "        ja.f(13)\n",
    "        Test.f(ja, 13)  # tu wołamy f jak funkcję z jawnie podanymi dwoma parametrami\n",
    "        \n",
    "ob = Test()\n",
    "print(f\"{ob=}\")\n",
    "ob.g()\n",
    "Test.f(ob, 13)\n",
    "\n",
    "h = Test.f\n",
    "h(ob, 13)   #  a tu jeszcze jeden przykład wołania f z jawnie podanymi dwoma parametrami"
   ]
  },
  {
   "cell_type": "markdown",
   "id": "71a8cafd-1a99-4f44-a488-d8524ac4bb91",
   "metadata": {},
   "source": [
    "Wiemy już, jak są realizowane wywołania metod. Wróćmy zatem do konstruktora, czyli metody `__init__`. Jako pierwszy parametr dostaje ona obiekt (już utworzony, choć jeszcze bez atrybutów) i teraz go inicjalizuje, korzystając z wartości parametrów.\n",
    "\n",
    "O tym, co dzieje się z obiektem wcześniej, będziemy mieli okazję jeszcze wspomnieć, ale zwykle to dopiero od wywołania metody `__init__` zaczyna się ważna dla programu część życia obiektu.\n",
    "\n",
    "# Ćwiczenie\n",
    "Skopuj dotychczasową wersję klasy Osoba (możesz też napisać od nowa, nie jest długa). Napisz treść konstruktora dla klasy Osoba. Popraw metodę `przedstaw_się`. \n",
    "\n",
    "Utwórz dwa obiekty tej klasy z przykładowymi danymi i sprawdź, czy prawidłowo się przedstawiają. Sprawdź też, czy można utworzyć osobę, nie podając imienia i nazwiska."
   ]
  },
  {
   "cell_type": "code",
   "execution_count": null,
   "metadata": {},
   "outputs": [],
   "source": [
    "class Osoba:\n",
    "    imię = \"Ala\"\n",
    "    nazwisko = \"Elementarzowa\"\n",
    "    def __init__(self, imię, nazwisko):\n",
    "       self.imię = imię\n",
    "       self.nazwisko = nazwisko\n",
    "\n",
    "    def przedstaw_się(self):\n",
    "        return self.imię + \" \" + self.nazwisko\n",
    "    \n",
    "os1 = Osoba(\"Ania\", \"Kajak\")\n",
    "os2 = Osoba(\"Bartek\", \"Kijek\")\n",
    "# osoba3=Osoba()\n",
    "\n",
    "print(os1.przedstaw_się())\n",
    "print(os2.przedstaw_się())\n",
    "# osoba3.przedstaw_się()"
   ]
  },
  {
   "cell_type": "markdown",
   "id": "3e76ad7c-acac-4d2c-993e-da94fedd5c4b",
   "metadata": {},
   "source": [
    "Oczywiście w związku z powyższym przedstawieniem atrybutów pojawia się szereg pytań:\n",
    "* Po co zrobiliśmy przypisania na imię i nazwisko w treści klasy (poza konstruktorem)?\n",
    "* Czy można dostać się do atrybutów spoza klasy?\n",
    "* Skoro dodawanie atrybutów polega na przypisaniu do self, to czy można przypisywać poza konstruktorem?\n",
    "Odpowiedzi na część (wszystkie?) z tych pytań mogą okazać się zaskakujące. Tym bardziej więc przyjrzyjmy się tym odpowiedziom.\n",
    "\n",
    "## Co stało się z Alą Elementarzową?\n",
    "\n",
    "Mamy już sporo obiektów klasy Osoba, w każdym musimy wywołać konstruktor (w którym przypisywane są nowe wartości), więc mogłoby się wydawać, że Ali już nie ma. Dobra wiadomość jest taka, że Ala ma się świetnie, zła - że nie jest tym, czym dotąd być się wydawała."
   ]
  },
  {
   "cell_type": "code",
   "execution_count": null,
   "id": "38918cdb-85cf-48ed-a08a-1741b150333a",
   "metadata": {},
   "outputs": [],
   "source": [
    "print(f\"{Osoba.imię=} {Osoba.nazwisko=}\")"
   ]
  },
  {
   "cell_type": "markdown",
   "id": "2a6a20c3-4559-4ae8-8a14-7e3757f46ea3",
   "metadata": {},
   "source": [
    "Zatem mamy w Pythonie zarówno atrybuty klasowe (te na które przypisujemy bezpośrednio w treści klasy), jak i atrybuty obiektowe (zwykłe), je tworzymy przypisaniami w konstruktorze[^1].\n",
    "\n",
    "## Jak dobrze są chronione atrybuty?\n",
    "\n",
    "Pamiętamy z wykładu z programowania obiektowego, że klasy (obiekty) mają chronić swoje dane. Sprawdźmy jak ta ochrona wygląda w Pythonie.\n",
    "\n",
    "[^1] To ostatnie stwierdznie jest prawdziwe, ale zaraz zobaczymy, że sytuacje w Pythonie jest bardziej subtelna."
   ]
  },
  {
   "cell_type": "code",
   "execution_count": null,
   "id": "bc89dd4f-09ad-4daf-8a9e-3800dfa912f4",
   "metadata": {},
   "outputs": [],
   "source": [
    "print(os1.przedstaw_się())\n",
    "\n",
    "print(os1.imię, os1.nazwisko)  # Ups, działa. Niedobrze"
   ]
  },
  {
   "cell_type": "markdown",
   "id": "2e848af8-934e-4e75-b63b-c691a1af19b5",
   "metadata": {},
   "source": [
    "Niestety dostęp do czytania atrybutów spoza klasy nie jest ograniczony. Zobaczmy co z przypisaniem do atrybutów poza klasą."
   ]
  },
  {
   "cell_type": "code",
   "execution_count": null,
   "id": "02e44ca5-621e-4df3-a86e-520eb057f86f",
   "metadata": {},
   "outputs": [],
   "source": [
    "print(os1.przedstaw_się())\n",
    "os1.imię = \"Bilbo\"           # Ups, ups, ups ....\n",
    "print(os1.przedstaw_się())"
   ]
  },
  {
   "cell_type": "markdown",
   "id": "de709067-a9c4-425e-8c9c-e580bde0e3e1",
   "metadata": {},
   "source": [
    "Jest źle [^1]. Jedynym pocieszeniem mogłoby być to, że zawsze może być jeszcze gorzej. Niestety jest. (Jeszcze gorzej).\n",
    "\n",
    "## Czy można przypisywać na atrybuty poza konstruktorem?\n",
    "\n",
    "Postawiliśmy to pytanie jakiś czas temu. Już wiemy, że można zmieniać wartość atrybutu spoza klasy. Ale czy meroda `__init__` ma wyłączność na tworzenie atrybutów? Sprawdźmy.\n",
    "\n",
    "[^1] Python ma pewne zabezpieczenie, ale jest ono dośc iluzoryczne, dlatego wspomnimy o nim później."
   ]
  },
  {
   "cell_type": "code",
   "execution_count": null,
   "id": "6b77ef3a-2d00-4059-91f4-f90199c1e958",
   "metadata": {},
   "outputs": [],
   "source": [
    "os1.miejsce_zamieszkania = \"Shire\"\n",
    "print(os1.miejsce_zamieszkania)"
   ]
  },
  {
   "cell_type": "markdown",
   "id": "1cbfe14e-62e0-431b-afa6-89219eb0b2e0",
   "metadata": {},
   "source": [
    "Może to dobrze, że to zadziałało? W końcu teraz wszyscy Hobbici mają gdzie mieszkać. Tylko czy rzeczywiście?"
   ]
  },
  {
   "cell_type": "code",
   "execution_count": null,
   "id": "36842626-062b-4cd4-b897-6b27cb61a64f",
   "metadata": {},
   "outputs": [],
   "source": [
    "print(os2.przedstaw_się())\n",
    "print(os2.miejsce_zamieszkania)"
   ]
  },
  {
   "cell_type": "markdown",
   "id": "5676623f-2320-4150-a182-c1695a583f5e",
   "metadata": {},
   "source": [
    "Sam jednak nie ma miejsca zamieszkania. To bardzo źle (i to nie tylko zwn. Sama). Sprawdźmy jeszcze typy Sama i Bilba."
   ]
  },
  {
   "cell_type": "code",
   "execution_count": null,
   "id": "7cf47219-1c9b-4184-afcd-fdd3e64c6b97",
   "metadata": {},
   "outputs": [],
   "source": [
    "print(f\"{type(os1)=}, {type(os2)=} {type(os1)==type(os2)=}\")"
   ]
  },
  {
   "cell_type": "markdown",
   "id": "27a2a64b-1298-4e85-97ae-a2016e24a1e9",
   "metadata": {},
   "source": [
    "No cóż, pamiętajmy, że Python nie powstawał przede wszystkim jako język obiektowy, lecz jako język skryptowy.\n",
    "\n",
    "Wnioski jakie powinniśmy wyciągnąć z dotychczsowych rozważań:\n",
    "* atrybuty (obiektowe) inicjalizujmy **tylko** w metodzie `__init__`,\n",
    "* mimo że można, nigdy nie sięgajmy do atrybutów spoza klasy.\n",
    "Te reguły nie dają pełnego bezpieczeństwa, ale bardzo je zwiększają. Nie są też (jak widzieliśmy) egzekwowane przez Pythona.\n",
    "\n",
    "Drobny przykład tego do czego może prowadzić (i na pewno - prędzej czy później - doprowadzi) nieprzestrzeganie powyższych reguł. Znajdź błąd w poniższym przykładzie. \n",
    "Zastanów się, na ile łatwo/trudno byłoby znaleźć taki błąd w programie liczącym nie 3 wiersze tylko np. 30 tysięcy wierszy.\n"
   ]
  },
  {
   "cell_type": "code",
   "execution_count": null,
   "id": "292f966d-e72d-409c-ab8d-02139cc84e2f",
   "metadata": {},
   "outputs": [],
   "source": [
    "print(f\"{os2.przedstaw_się()}\")\n",
    "os2.imie = \"Sam\"  # Tak zwykle nazywano ... no właśnie ... Sama\n",
    "print(f\"{os2.przedstaw_się()}\")  # No jak to?"
   ]
  },
  {
   "cell_type": "markdown",
   "id": "1895b253-3f18-4368-b1c6-dc6ea0671639",
   "metadata": {},
   "source": [
    "No ale może nie ma co tak narzekać, w końcu obiekt z kilkoma dodatkowymi polami dalej jest obiektem swojej klasy, \n",
    "tj. ma wszystkie dane (atrybuty) potrzebne do wykoywania wszystkich metod zdefiniowanych w jego klasie.\n",
    "Mogłoby być przecież gorzej, gdyby pola mogły znikać :). Ale nie mogą, prawda? Prawda?\n",
    "\n",
    "Ups.\n",
    "\n",
    "Popatrzmy na ten przykład."
   ]
  },
  {
   "cell_type": "code",
   "execution_count": null,
   "id": "5a9b9ad8-d0fb-40e6-a709-ac50817f2396",
   "metadata": {},
   "outputs": [],
   "source": [
    "os3 = Osoba(\"Grzegorz\", \"Brzęczyszczykiewicz\")                      # Poprawny obiekt klasy Osoba\n",
    "os3.miejsce_zamieszkania = \"Chrząszczyżewoszyce, powiat Łękołody\"   # Dodatkowe pole, zbędne w klasie Osoba\n",
    "print(os3.przedstaw_się())                                          # Mimo dodatkowego pola obiekt dalej działa, wszystkie metody wykonują się poprawnie, nie używając dodatkowego pola.\n",
    "del os3.imię                                                        # del jest jedną z instrukcji Pythona  \n",
    "print(os3.przedstaw_się())"
   ]
  },
  {
   "cell_type": "markdown",
   "id": "88f4cee2-72f7-4037-a2c2-4328196e1dd5",
   "metadata": {},
   "source": [
    "To dość zaskakujące. W miejsce brakującego atrybutu obiektowego został użyty atrybut klasowy! Takie zachowanie już widzieliśmy zresztą. Nasze pierwsze eksperymenty, kiedy jeszcze nie było `__init__` wydawały się działać, ale wynikało to z tego samego mechanizmu: obiekt zapytany o atrybut daje swój, a jak go nie ma, to daje atrybut klasowy.\n",
    "\n",
    "Poprawmy naszą klasę: klasowe atrybuty `imię` i `nazwisko` nie mają tu sensu, wprowadźmy natomiast atrybut klasowy `ile`, zliaczający ile osób już utworzyliśmy."
   ]
  },
  {
   "cell_type": "code",
   "execution_count": null,
   "id": "8d7f975d-9a6d-44d9-b508-a47a20f1cdb8",
   "metadata": {},
   "outputs": [],
   "source": [
    "class Osoba:\n",
    "    ile = 0\n",
    "    \n",
    "    def __init__(self, imię, nazwisko):\n",
    "        Osoba.ile += 1\n",
    "        self.imię = imię\n",
    "        self.nazwisko = nazwisko\n",
    "        \n",
    "    def przedstaw_się(self):\n",
    "        return self.imię + \" \" + self.nazwisko\n",
    "    \n",
    "os1, os2 = Osoba(\"Frodo\", \"Baggins\"), Osoba(\"Samwise\", \"Gamgee\")\n",
    "print(f\"{os1.przedstaw_się()=}, {os2.przedstaw_się()=}, {Osoba.ile=}\")"
   ]
  },
  {
   "cell_type": "markdown",
   "id": "bf5d32bc-b477-4ae8-840a-9fa1945e7d1b",
   "metadata": {},
   "source": [
    "A teraz wykonajmy jeszcze raz nasz eksperyment z usuwaniem atrybutów."
   ]
  },
  {
   "cell_type": "code",
   "execution_count": null,
   "id": "bf39b0bb-a0eb-4cd8-800d-a798ecfd9699",
   "metadata": {},
   "outputs": [],
   "source": [
    "os3 = Osoba(\"Grzegorz\", \"Brzęczyszczykiewicz\")                      # Poprawny obiekt klasy Osoba\n",
    "os3.miejsce_zamieszkania = \"Chrząszczyżewoszyce, powiat Łękołody\"   # Dodatkowe pole, zbędne w klasie Osoba\n",
    "print(os3.przedstaw_się())                                          # Mimo dodatkowego pola obiekt dalej działa, wszystkie metody wykonują się poprawnie, nie używając dodatkowego pola.\n",
    "del os3.imię                                                        # del jest jedną z instrukcji Pythona  \n",
    "print(os3.przedstaw_się())"
   ]
  },
  {
   "cell_type": "markdown",
   "id": "77f89c32-7f01-4909-b763-2674cb30d3f0",
   "metadata": {},
   "source": [
    "Teraz efekt jest inny, tego atrybutu po prostu nie ma. Zanotujmy więc kolejne zalecenie:\n",
    "* Nie używajmy instrukcji `del` w programach (co najwyżej w interaktywnych sesjach REPL), a już na pewno nie używajmy jej w odniesieniu do atrybutów.\n",
    "\n",
    "I podsumujmy spostrzeżenia:\n",
    "* Do atrybutu obiektu można się odwołać pisząc `obiekt.atrybut` i można to zrobić z dowolnego miejsca programu (a nie tylko w klasie tego obiektu).\n",
    "* Do atrybutu klasowego można się odwołać pisząc `obiekt.atrybut` lub `klasa.atrybut`. I znów można to robić z dowolnego miejsca programu.\n",
    "* Przypisanie do niestniejącego atrybutu (obiektowego lub klasowego) tworzy ów atrybut. Jak powyżej, można to robić z dowolnego miejsca programu.\n",
    "* Próba odczytania wartości nieistniejącego atrybutu kończy się błędem wykonania."
   ]
  },
  {
   "cell_type": "markdown",
   "id": "76f9edd2-a106-4020-9699-0d61b372da14",
   "metadata": {},
   "source": [
    "# Czym są metody w klasach\n",
    "\n",
    "To skoro już robimy rzeczy dziwne, zobaczmy jak Python widzi metody. Wydrukujmy je (nie ich wyniki, ale same metody) i jakąś funkcję (dla porównania). "
   ]
  },
  {
   "cell_type": "code",
   "execution_count": null,
   "id": "94ca6a11-4794-4dbf-b1c2-874b310d1276",
   "metadata": {},
   "outputs": [],
   "source": [
    "def f():\n",
    "    return 13\n",
    "\n",
    "print(f\"{f=}\\n{Osoba.przedstaw_się=}\\n{os1.przedstaw_się=}\\n{id(os1)=:#0{16+2}X}\")"
   ]
  },
  {
   "cell_type": "markdown",
   "id": "591b2bc3-f5d5-4426-bd61-5e91922d56f6",
   "metadata": {},
   "source": [
    "Widać tu kilka ciekawych rzeczy:\n",
    "* funkcja i metoda wydają się być z punktu widzenia Pythona tym samym (!),\n",
    "* mamy też metody związane (ze swoimi obiektami).\n",
    "\n",
    "Spróbujmy jeszcze wywołać te trzy (mniej lub więcej) funkcje."
   ]
  },
  {
   "cell_type": "code",
   "execution_count": null,
   "id": "824498b5-3732-43e1-8423-854be4f41354",
   "metadata": {},
   "outputs": [],
   "source": [
    "print(f\"{f()=}\\n{Osoba.przedstaw_się(os1)=}\\n{os1.przedstaw_się()=}\")"
   ]
  },
  {
   "cell_type": "markdown",
   "id": "8e3fa3cb-4c55-4b78-acbe-11326139ca90",
   "metadata": {},
   "source": [
    "Oczywiście wywołanie funkcji niczym nas nie zaskoczyło, natomiast warto zapamiętać dwa sposoby wołania metody: jako funkcję z parametrem będącym obiektem i jako metodę.\n",
    "\n",
    "Ale skoro metoda to tylko funkcja z dodatkowym parametrem, to czy można przypisać funkcję do klasy?"
   ]
  },
  {
   "cell_type": "code",
   "execution_count": null,
   "id": "b03a75cd-f44a-40b8-9137-7c5a7ca1a702",
   "metadata": {},
   "outputs": [],
   "source": [
    "def f(self): # Na razie dowolna funkcja\n",
    "    print(13)\n",
    "\n",
    "Osoba.f = f\n",
    "os6 = Osoba(\"Wednesday\", \"Adams\")\n",
    "print(os6.f())"
   ]
  },
  {
   "cell_type": "markdown",
   "id": "90b3e378-96d0-4aef-abd0-8e182d971a02",
   "metadata": {},
   "source": [
    "Hm, ale ta funkcja nie odwoływała się do atrybutów, czy to ma znaczenia? Skoro atrybuty są brane z parametru (a nie z lokalnego zasięgu), to pewnie nie, ale sprawdźmy."
   ]
  },
  {
   "cell_type": "code",
   "execution_count": null,
   "id": "dd9ade9e-f0b9-4e9b-9944-f2038b8f9c3b",
   "metadata": {},
   "outputs": [],
   "source": [
    "def daj_imię(self):        # ta nazwa nie ma większego znaczenia\n",
    "    return self.imię\n",
    "\n",
    "Osoba.daj_imię = daj_imię  # za to tu jest istotne do czego ją przypisujemy\n",
    "print(os6.daj_imię())"
   ]
  },
  {
   "cell_type": "markdown",
   "id": "6528989d-a3f2-49c3-9d8d-561bbefac276",
   "metadata": {},
   "source": [
    "O, to bardzo ciekawe. Zadziałało przypisanie funkcji do metody. Co nie dziwi w świecie, gdzie funkcje są zaliczane do obywateli pierwszej kategorii. Jak w programowaniu funkcyjnym. No i oczywiście nie dziwi po C, tam można zrobić tak samo (przypisać funkcję do zmiennej, parametru czy pola w strukturze). \n",
    "\n",
    "Równie interesujące jest to, że Wednesday zna/ma tę nową metodę. A przecież została stworzona z klasy `Osoba` niemającej atrybutu/metody `daj_imię`.\n",
    "\n",
    "Podsumujmy nasze kolejne doświadczenia:\n",
    "* metody w klasie to po prostu atrybuty, których wartościami są funkcje,\n",
    "* przypisanie nowego atrybutu (w tym: metody) nie zmienia klasy, w przeciwieństwie do zdefiniowania jej na nowo (nawet z tą samą treścią).\n"
   ]
  },
  {
   "cell_type": "markdown",
   "id": "acfdc271-eceb-45bc-b370-ad643e38b3ff",
   "metadata": {},
   "source": [
    "# Czy klasa może mieć kilka konstruktorów?\n",
    "\n",
    "Ponieważ konstruktor musi się nazywać `__init__`, to pytanie sprawdza się do tego, czy w Pythonie można przeciążać metody (lub funkcje). Ogólnie przeciążać można zwn. liczbę lub typ parametrów. To drugie odpada zwn. brak deklaracji typów. Ale może da się zwn. liczbę parametrów? Sprawdźmy."
   ]
  },
  {
   "cell_type": "code",
   "execution_count": null,
   "id": "7400f976-86c3-4de4-b799-d8dd0142f098",
   "metadata": {},
   "outputs": [],
   "source": [
    "class Test2:\n",
    "    def m(self):\n",
    "        print(\"m(self)\")\n",
    "    def m(self, n):\n",
    "        print(\"m(self, n)\")\n",
    "        \n",
    "Test2().m(1)  \n",
    "Test2().m()"
   ]
  },
  {
   "cell_type": "markdown",
   "id": "db1cd925-aee9-43e7-9ce1-897c48a71f53",
   "metadata": {},
   "source": [
    "Nie udało się (Python wypisuje komunikat w rodzaju: \"TypeError: Test2.m() takes 1 positional argument but 2 were given\"). Ale wydarzyło się tu kilka wartych zauważenia rzeczy.\n",
    "\n",
    "Po pierwsze, deklaracja klasy `Test2` została przyjęta. Dlaczego? Po drugie, pierwsze wywołanie metody `m` się powiodło, dopiero drugie (bezparametrowe) nie. Dlaczego?\n",
    "\n",
    "Wyjaśnienie jest proste: interpreter Pythona analizując klasę `Test2` przyjął definicję metody `m(self)`, ale potem napotkał definicję `m(self, n)` i tą definicją *zastąpił* tę pierwszą. Podobnie dzieje się z definicjami funkcji. Czyli dla Pythona zamiana definicji metody (też funkcji) na inną jest zupełnie normalnym zjawiskiem, nie wartym nawet wypisania ostrzeżenia. Szkoda, to niebezpieczne. Ale z punktu widzenia języka skryptowego, szczególnie działające w trybie REPL absolutnie naturalne.\n",
    "\n",
    "Skoro jednak `Test2` ma tylko jedną definicję `m` (tę drugą) to tłumaczy, czemu pierwsze wywołanie metody `m` się powiodło, a drugie nie.\n",
    "\n",
    "Podsumowując: brak możliwości przeciążania nazw w Pythonie nie dziwi, bo przeciążanie nazw (w przeciwieństwie do podmieniania metod) jest zjawiskiem czasu kompilacji, a tej w Pythonie nie mamy. Przynajmniej możemy tak myśleć o Pythonie, że nie ma tam kompilatora, a jest tylko interpreter (choć rzeczywistość jest trochę bardziej złożona).\n",
    "\n",
    "Możemy jeszcze - za pomocą polecenia `dir` - przekonać się, że `Test2` ma tylko jedną wersję metody `m`. O tym, czemu ma dużo innych rzeczy, będziemy mówić dalej."
   ]
  },
  {
   "cell_type": "code",
   "execution_count": null,
   "id": "4c211810-2932-443b-b39c-3347d1874c85",
   "metadata": {},
   "outputs": [],
   "source": [
    "print(dir(Test2))"
   ]
  },
  {
   "cell_type": "markdown",
   "id": "9699604e-afd4-4002-bfb8-56eaa94e1f22",
   "metadata": {},
   "source": [
    "Czyli wniosek z naszych rozważań jest taki, że nie można mieć kilku konstruktorów w klasie. \n",
    "\n",
    "No, ale jeśli nam jednak bardzo zależy? A, to co innego, wtedy można. Choć w ograniczonym zakresie. Wystarczy skorzystać z dobrze znanego nam już mechanizmu parametrów o wartościach domyślnych. To *nie* jest to samo co przeciążanie nazw (oczywiście), mamy tylko jedną wersję funkcji/metody, ale możemy ją różnie wywoływać. A jeśli jeszcze w treści funkcji będziemy sprawdzać (operacją `type`) typy parametrów, to możemy *zasymulować* przeciążanie nazw metod.\n",
    "\n",
    "Dla przykładu dodajmy w klasie `Osoba` atrybut `nazwa` własnego zwierzaka i pozwólmy tworzyć obiekty zarówno z jak i bez owej nazwy (nie każdy ma psa lub kota). Jeśli ktoś nie ma (jeszcze lub już) uubionego zwierzaka, to w obiekcie będziemy trzymać `None` jako wartość odpowiedniego atrybutu."
   ]
  },
  {
   "cell_type": "code",
   "execution_count": null,
   "id": "30e73bcf-91a8-4e22-8a37-376b4525b9eb",
   "metadata": {},
   "outputs": [],
   "source": [
    "class Osoba:\n",
    "    ile = 0\n",
    "    \n",
    "    def __init__(self, imię, nazwisko, zwierzak=None):\n",
    "        Osoba.ile += 1\n",
    "        self.imię = imię\n",
    "        self.nazwisko = nazwisko\n",
    "        self.zwierzak = zwierzak\n",
    "        \n",
    "    def przedstaw_się(self):\n",
    "        return self.imię + \" \" + self.nazwisko + (\" pupil: \" + self.zwierzak if self.zwierzak != None else \"\")\n",
    "    \n",
    "os4, os5 = Osoba(\"Ala\", \"Elementarzowa\", \"As\"), Osoba(\"Ola\", \"Elementarzowa\")\n",
    "print(f\"{os4.przedstaw_się()=}, {os5.przedstaw_się()=}\")"
   ]
  },
  {
   "cell_type": "markdown",
   "id": "84486ed8-8bbd-4447-8b60-f4a808699582",
   "metadata": {},
   "source": [
    "Wreszcie mamy prawdziwą Alę! Hm, ale co z Frodem i Samem? Oni są starsi (oczywiście) od Ali. Znaczy, dużo starsi, z innej epoki (życia klasy Osoba). Sprawdźmy."
   ]
  },
  {
   "cell_type": "code",
   "execution_count": null,
   "id": "8b119269-bcde-43cd-90ab-320d403cb2ed",
   "metadata": {},
   "outputs": [],
   "source": [
    "print(f\"{os1.przedstaw_się()=} {os2.przedstaw_się()=}\")\n",
    "print(f\"{type(os1)=}, {type(os4)=} {type(os1) == type(os4) =}\")\n",
    "print(f\"{os1.ile=} {os4.ile=} {Osoba.ile=}\")"
   ]
  },
  {
   "cell_type": "markdown",
   "id": "38ca461e-5081-44b4-a5ed-3090dd63ff80",
   "metadata": {},
   "source": [
    "No to się porobiło ... . Mamy trzy stare osoby i dwie nowe ... .\n",
    "\n",
    "Ale podkreślmy, że to wynikło z tego, że eksperymentujemy z Pythonem, wyikło z jego dynamicznej (nie ma fazy kompilacji) natury oraz z tego, że można pisać program interaktywnie (przeplatać fazy pisania programu i jego wykonywania).\n",
    "Gdybyśmy mieli plik .py z jedną definicją klasy (co jest normalną sytuacją), wówczas z częścią z powyższych problemów (stare i nowe obiekty klasy, podwójna definicja klasy) byśmy się nie zetknęli."
   ]
  },
  {
   "cell_type": "markdown",
   "id": "b86b79b6-2d86-4ead-8e19-75858df5bb55",
   "metadata": {},
   "source": [
    "# Uzyskiwanie informacji o obiektach\n",
    "\n",
    "Najbardziej podstawowym pytaniem jakie można zadać obiektowi jest to o jego typ. Można je sformułować na różne sposoby (niektórych już użyliśmy wcześniej)."
   ]
  },
  {
   "cell_type": "code",
   "execution_count": null,
   "id": "df791c54-0430-451f-bd5d-a5aeedf0cf1f",
   "metadata": {},
   "outputs": [],
   "source": [
    "print(f\"{os4=}\\n{type(os4)=}\\n{os4.__class__=}\\n{isinstance(os4, Osoba)=}\")"
   ]
  },
  {
   "cell_type": "markdown",
   "id": "7b6d2c6b-2617-41ac-bb73-be01cca38d75",
   "metadata": {},
   "source": [
    "# Metody z podwójnym podkreśleniem (metody zpp, ang. dunder methods)\n",
    "\n",
    "W Pythonie wprowadzono konwencję, zgodnie z którą specjalne metody lub atrybuty są nazywane identyfikatorami zaczynającymi się i kończącymi dwoma podkreśleniami. Jak juz zauwazyliśmy takie identyfikatory **z** **p**odwójnym **p**odkreśleniem (identyfikatory zpp) potocznie określa się po angielsku słowem dunder (**d**ouble **under**score).\n",
    "\n",
    "Przykładem użycia takich identyfikatorów jest zastosowany powyżej atrybut `__class__`, w którym każdy obiekt pamięta swoją klasę (oczywiście poprzez referencję, a nie kopię klasy).\n",
    "\n",
    "Szczególnie ciekawe są specjalne metody obiektów. Jedną taką metodę już znamy (to konstruktor `__init__`). Takich metod jest więcej, służą na przykład do definiowania konwersji do napisu, czy definiowania operatorów.\n",
    "\n",
    "## Wypisywanie obiektów\n",
    "\n",
    "W Pythonie, tak samo jak w Javie, każdy obiekt można przekonwertować na napis. I, tak samo jak w Javie, domyślna implementacja nie jest specjalnie praktyczna."
   ]
  },
  {
   "cell_type": "code",
   "execution_count": null,
   "id": "549ff973-5406-43b6-ba7c-8c98a64daf1e",
   "metadata": {},
   "outputs": [],
   "source": [
    "print(os5)\n",
    "print(f\"{type(os5) =}, {id(os5)=:#0{16+2}X}\")"
   ]
  },
  {
   "cell_type": "markdown",
   "id": "2d92af73-fd99-4bef-9ecc-81f0cdab27eb",
   "metadata": {},
   "source": [
    "Jak widać domyślna implementacja wypisuje klasę obiektu i jego identyfikator, rzeczy ważne, ale w praktyce wolelibyśmy zobaczyć co innego: wartości atrybutów obiektu.\n",
    "Własną wersję konwersji do napisu, wykorzystywaną przez standardową funkcję `str`, definiujemy jako metodę o nazwie `__str__`."
   ]
  },
  {
   "cell_type": "code",
   "execution_count": null,
   "id": "1f3f27fe-688e-4496-a5fd-8ab141ad2d37",
   "metadata": {},
   "outputs": [],
   "source": [
    "def cokolwiek(ja):  # niestandardowy nagłówek, ale te nazwy nie mają żadnego znaczenia\n",
    "    return ja.imię + ' ' + ja.nazwisko\n",
    "\n",
    "Osoba.__str__ = cokolwiek\n",
    "\n",
    "os7 = Osoba(\"Ambroży\", \"Kleks\")\n",
    "\n",
    "nap = str(os7)\n",
    "print(f\"{os7} {nap=}\")"
   ]
  },
  {
   "cell_type": "markdown",
   "id": "af771c25-d8b7-4185-81b2-eb4792b70065",
   "metadata": {},
   "source": [
    "Zadziałało! Operacja `print` wywołuje od swoich argumentów funkcję `str`, a ta z kolei woła dla obiektów `__str__`. A ponieważ w Pythonie wszystko jest obiektem, możemy w poprzednim zdaniu pominąć frazę \"dla obiektów\".\n",
    "\n",
    "Tylko ... czy zawsze tak jest? Nie bez powodu w ostatnie instrukcji `print` nie ma `=` po `os7`."
   ]
  },
  {
   "cell_type": "code",
   "execution_count": null,
   "id": "40d6c64f-1961-47a3-a096-639fb64b746e",
   "metadata": {},
   "outputs": [],
   "source": [
    "print(f\"{os7=}\")"
   ]
  },
  {
   "cell_type": "markdown",
   "id": "31c5edca-9fd2-47e3-811d-fc698922779a",
   "metadata": {},
   "source": [
    "No i popsuło się :(. Hm, ale właściwie nie miało jak, przecież w ogóle nie ruszaliśmy klasy `Osoba`. \n",
    "\n",
    "Tu musimy sobie przypomnieć, że konwertując obiekt na napis mamy ku temu dwa różne powody:\n",
    "* ładnie wypisać obiekt (np. dla obiektu bufor_cykliczny trzymanego w tablicy wypisać elementy, które są w buforze),\n",
    "* wypisać obiekt w czasie śledzenia programu, ze wszelkimi informacjami (w przypadku bufora cyklicznego: gdzie w tablicy jest początek i koniec zawartości bufora, jaki jest rozmiar tablicy, zawartość bufora a może nawet i całej tablicy). Czasem jeszcze powodem może być chęć serializacji danych (i przesłania obiektu np. siecią).\n",
    "To pierwsze zadanie realizuje `str`, to drugie `repr`. Zaś napisy formatowane (ang. f-strings) do pokazania wartości zapisanej bez `=` używają 'str', a zapisanej z `=` już 'repr'.\n",
    "\n",
    "No to wiadomo co robić!\n",
    "\n",
    "# Ćwiczenie \n",
    "Napisz kod, który sprawi że `f\"{os7=}\" == 'Ambroży Kleks'`. Sprawdź, że przedstawione rozwiązanie działa."
   ]
  },
  {
   "cell_type": "code",
   "execution_count": null,
   "metadata": {},
   "outputs": [],
   "source": [
    "Osoba.__repr__ = cokolwiek\n",
    "\n",
    "print(f\"{os7=} {os7}\")"
   ]
  },
  {
   "cell_type": "markdown",
   "id": "6b1d2514-1db9-4896-a8cd-20276245ea07",
   "metadata": {},
   "source": [
    "# Definiowanie operatorów\n",
    "\n",
    "W Pythonie można definiować semantykę operatorów działających na obiektach klas. W wielu językach jest to osiąganie dzięki przeciążaniu operatorów, ale w Pythonie (jak to już wześniej zauważyliśmy) nie ma przeciążania, bo nie ma fazy kompilacji. Możemy natomiast definiować znaczenie operatorów (a czasami nawet podmieniać).\n",
    "\n",
    "## Operatory porównań\n",
    "\n",
    "Oto lista operatorów porównań, które można zdefiniować w Pythonie i nazwy odpowiadających im metod:\n",
    "\n",
    "| Operator | Metoda |\n",
    "| -------- | ------ |\n",
    "| `x<y`  | `x.__lt__(y)` | \n",
    "| `x<=y` | `x.__le__(y)` |\n",
    "| `x==y` | `x.__eq__(y)` |\n",
    "| `x!=y` | `x.__ne__(y)` |\n",
    "| `x>y`  | `x.__gt__(y)` |\n",
    "| `x>=y` | `x.__ge__(y)` |\n",
    "\n",
    "<!--\n",
    "\n",
    "* x<y:  x.__lt__(y),\n",
    "* x<=y: x.__le__(y),\n",
    "* x==y: x.__eq__(y),\n",
    "* x!=y: x.__ne__(y),\n",
    "* x>y:  x.__gt__(y),\n",
    "* x>=y: x.__ge__(y).\n",
    "-->\n",
    "\n",
    "Zacznijemy od sprawdzenia, czy (które) z tych operatorów są domyślnie zdefiniowane w Pythonie. Użyjemy w tym celu klasy Osoba (bo ją mamy), ale zrobimy to w dość nietypowy sposób, z `None` zamiast imienia i nazwiska."
   ]
  },
  {
   "cell_type": "code",
   "execution_count": null,
   "id": "ad8873d7-c0eb-4904-8cb2-fa9f40fe1fec",
   "metadata": {},
   "outputs": [],
   "source": [
    "pom1, pom2 = Osoba(None, None), Osoba(None, None)\n",
    "print(f\"{pom1 == pom1 =}\\n{pom1 == pom2 =}\\n{pom1 != pom1 =}\\n{pom1 != pom2 =}\")\n",
    "# pom1 < pom2  # TypeError: '<' not supported between instances of 'Osoba' and 'Osoba'\n",
    "# pom1 <= pom2 # TypeError: '<=' not supported between instances of 'Osoba' and 'Osoba'\n",
    "# pom1 > pom2  # TypeError: '>' not supported between instances of 'Osoba' and 'Osoba'\n",
    "# pom1 >= pom2 # TypeError: '>=' not supported between instances of 'Osoba' and 'Osoba'\n"
   ]
  },
  {
   "cell_type": "markdown",
   "id": "a0b18d34-14bf-4616-88ae-e9a6bfa6d787",
   "metadata": {},
   "source": [
    "Jak widać mamy zdefiniowaną tylko równość (operatory == i !=) z semantyką identyczności (specjalnie stworzyliśmy obiekty niezawierające innych wartości niż `None`, żeby nie dać szansy Pythonowi na znalezienie jakiejś różnicy - te obiekty w pamięci wyglądają identycznie).\n",
    "\n",
    "Domyślne definiowanie równości jako identyczność jest oczywiście bardzo naturalne (tak było zdefiniowane np. w Javie, zarówno dla `==` jak i dla `equals`).\n",
    "\n",
    "Natomiast pozostałe operatory nierówności nie są domyślnie definiowane i ma to oczywiste uzasadnienie: nie na każdego typu wartościach mamy zdefiniowany porządek.\n",
    "\n",
    "Operator `__ne__` domyślnie korzysta z operatora `__eq__` (negując wynik). Operator `__eq__`, operator `__ne__`, para operatorów `__lt__` i `__gt__` oraz para operatorów `__le__` i `__ge__` traktowane są jako swoje odpowiedniki, to znaczy jeśli lewy argument nie ma takiego operatora, to Python próbuje wywołać odpowiednik operatora z prawego argumentu.\n",
    "\n",
    "Python nie wymaga by wyniki porównań były wartościami `True` lub `False` (ale my tak róbmy), jeśli zaś kontest wymaga wartości logicznej, to do wyniku operatora porówania jest stosowana operacja `bool`.\n",
    "\n",
    "Załóżmy, że chcemy móc porównywać `Osoby` w porządku leksykograficznym, po nazwiskach, a w przypadku równości nazwisk po imionach.\n",
    "\n",
    "# Ćwiczenie \n",
    "Zdefiniuj w klasie Osoba operatory równości oraz operatory porównywania zgodnie z porządkiem leksykograficznym na parach (nazwisko, imię). Przetestuj swoje rozwiązanie (każdy z sześciu operatorów porównań) na dwu parach obiektów, dających różne wyniki. \n",
    "Możesz wykorzystać to, że:\n",
    "* krotki (ogólnie sekwencje) są równe, jeśli są tej samej długości i mają równe poszczególne elementy,\n",
    "* krotki (ogólnie sekwencje) są porównywane w porządku leksykograficznym (tj. np. dla mniejszości do pierwszej współrzędnej mniejszej lub do skończenia się jednej z sekwencji). "
   ]
  },
  {
   "cell_type": "code",
   "execution_count": null,
   "metadata": {},
   "outputs": [],
   "source": [
    "class Osoba:\n",
    "    ile = 0\n",
    "    \n",
    "    def __init__(self, imię, nazwisko, zwierzak=None):\n",
    "        Osoba.ile += 1\n",
    "        self.imię = imię\n",
    "        self.nazwisko = nazwisko\n",
    "        self.zwierzak = zwierzak\n",
    "        \n",
    "    def przedstaw_się(self):\n",
    "        return self.imię + \" \" + self.nazwisko + (\" pupil: \" + self.zwierzak if self.zwierzak != None else \"\")\n",
    "\n",
    "    def __str__(self):\n",
    "        return self.imię + ' ' + self.nazwisko\n",
    "    \n",
    "    def __repr__(self):\n",
    "        return self.imię + ' ' + self.nazwisko\n",
    "\n",
    "    # operatory\n",
    "    def __eq__(lhs, rhs):\n",
    "        return lhs.imię == rhs.imię and lhs.nazwisko == rhs.nazwisko and lhs.zwierzak == rhs.zwierzak\n",
    "\n",
    "    def __ne__(lhs, rhs):\n",
    "        return not lhs == rhs\n",
    "\n",
    "    def __lt__(lhs, rhs):\n",
    "        if lhs.nazwisko != rhs.nazwisko:\n",
    "            for at in range(0, len(lhs.nazwisko)):\n",
    "                if lhs.nazwisko[at] < rhs.nazwisko[at] or at == len(lhs.nazwisko) - 1:\n",
    "                    return True\n",
    "                elif lhs.nazwisko[at] > rhs.nazwisko[at] or at == len(rhs.nazwisko) - 1:\n",
    "                    return False\n",
    "        elif lhs.imię != rhs.imię:\n",
    "            for at in range(0, len(lhs.imię)):\n",
    "                if lhs.imię[at] < rhs.imię[at] or at == len(lhs.imię) - 1:\n",
    "                    return True\n",
    "                elif lhs.imię[at] > rhs.imię[at] or at == len(rhs.imię) - 1:\n",
    "                    return False\n",
    "        else: return False       \n",
    "\n",
    "    def __le__(lhs, rhs):\n",
    "        return lhs == rhs or lhs < rhs\n",
    "\n",
    "    def __gt__(lhs, rhs):\n",
    "        return not lhs <= rhs\n",
    "    \n",
    "    def __ge__(lhs, rhs):\n",
    "        return not lhs < rhs\n",
    "    \n",
    "os5, os7 = Osoba(\"Gojo\", \"Satoru\"), Osoba(\"Geto\", \"Suguru\")\n",
    "print(f\"{os5 < os7 = }\")\n",
    "print(f\"{os5 <= os7 = }\")\n",
    "print(f\"{os5 > os7 = }\")\n",
    "print(f\"{os5 >= os7 = }\")\n",
    "print(f\"{os5 == os7 = }\")\n",
    "print(f\"{os5 != os7 = }\")\n"
   ]
  },
  {
   "cell_type": "markdown",
   "id": "e5be67cd-b298-4b3e-b57e-62b5b85c0e95",
   "metadata": {},
   "source": [
    "## Operator `is`\n",
    "\n",
    "W Pythonie zdefiniowany jest operator `is` (a także `not is`). Oznacza identyczność obiektów. Porównuje referencje do obiektów, a dokładniej wartości funkcji `id`: `x is y` sprowadza się do sprawdzenia, czy `id(x) == id(y)`. Sprawdźmy na przykładzei osób."
   ]
  },
  {
   "cell_type": "code",
   "execution_count": null,
   "id": "5c3c9c98-0d45-46c2-b8d7-6ce1944347c6",
   "metadata": {},
   "outputs": [],
   "source": [
    "print(f\"{pom1 == pom2 =}, {pom1 is pom2 =}, {pom1 is pom1 =}, {id(pom1) =}, {id(pom2) =}\")"
   ]
  },
  {
   "cell_type": "markdown",
   "id": "c9a15ea8-985d-4994-801c-47e9151f9a38",
   "metadata": {},
   "source": [
    "Po co dwa sposoby porównywania (`==` i `is`)? Operator `==` oznacza równość wartości, podczas gdy `is` identyczność. Bardzo ogólnie można powiedzieć, że z tych dwu operacji porównywania `is` (identyczność) to ta łatwa w implementacji [^1] relacja, zaś `==` (równość) jest trudna (nawet w programowaniu, nie mówiąc o innych sferach życia).\n",
    "\n",
    "Operacja `is` jest zdefiniowana w Pythonie i program nie ma możliwości jej zmienienia. Operacja '==' (jak już wiemy) oznacza wywołania metody `__eq__` i można (często należy) ją dostosować do specyfiki danej klasy.\n",
    "\n",
    "Kiedy używać której z tych dwu operacji? Ogólne zalecenia są takie:\n",
    "* 'is' używajmy przy porównywaniu obiektów będących singletonami (w tym z `None`). Dlaczego? Bo jest to szybsze (wymaga tylko operacji `id`, a nie być może podmienionej, więc dowolnie kosztownej, metody `__eq__`),\n",
    "* `is` jest też dobrym wyborem (z powodu jak wyżej), gdy porównujemy z konkretnym, znanym obiektem (np. strażnikiem na liście),\n",
    "* w pozostałych sytuacjach używajmy `==`.\n",
    "\n",
    "[^1] Łatwość implementacji nie musi oznaczać oczywistego działania, p. przykład z liczbami na końcu tego rozdziału."
   ]
  },
  {
   "cell_type": "markdown",
   "id": "833e5751-80da-47da-89f0-a717a25aae43",
   "metadata": {},
   "source": [
    "Oczywiście `==` powinno być tak zdefiniowane, by `a is b` implikowało `a == b`. Język tego nie wymusza, więc poniższy *błędny* przykład działa."
   ]
  },
  {
   "cell_type": "code",
   "execution_count": null,
   "id": "30956788-778e-41fc-ac22-b75f05dac76c",
   "metadata": {},
   "outputs": [],
   "source": [
    "class Zła:\n",
    "    def __eq__(ja, on):\n",
    "       return False     # Oczywisty błąd logiczny, choć formalnie poprawne.\n",
    "\n",
    "a = Zła()\n",
    "print(f\"{a == a =}, {a is a =}\")"
   ]
  },
  {
   "cell_type": "markdown",
   "id": "09229848-43bc-400b-ba48-a5e8f874aa9a",
   "metadata": {},
   "source": [
    "### Dziwny jest ten świat\n",
    "\n",
    "No to już wszystko wiemy o `is`, w końcu to banalna operacja.\n",
    "\n",
    "Z drugiej strony nie raz już dziś widzieliśmy, że nie wszsytko jest takie na jakie wygląda. Co można też sformułować tak, że świat dookoła nas jest tym bardziej interesujący, im lepiej go poznajemy.\n",
    "\n",
    "Poniższy przykład działa (czy raczej działa dziwnie) z CPythonem w wersji 3.12 (i z wieloma wcześniejszymi), co będzie w przyszłości nie wiadomo."
   ]
  },
  {
   "cell_type": "code",
   "execution_count": null,
   "id": "eb83d37c-ae7d-44c2-b8a6-3fdf7bed37f2",
   "metadata": {},
   "outputs": [],
   "source": [
    "# A\n",
    "i = 256\n",
    "j = 256\n",
    "print(f\"{i=}, {j=} {i==j =}, {i is j =}\")   # No przecież wiadomo co wyjdzie z is: False. Zaraz, wyszło ... True???\n",
    "\n",
    "# B\n",
    "i = 257\n",
    "j = 257\n",
    "print(f\"{i=}, {j=} {i==j =}, {i is j =}\")   # Jak to, teraz jednak: False???\n",
    "\n",
    "# C\n",
    "i, k, j = 257, 13, 25*10+7\n",
    "print(f\"{i=}, {j=} {i==j =}, {i is j =}\")   # True, znowu??? Dla 257 to przecież niemożliwe!\n",
    "\n",
    "# D\n",
    "k = 257\n",
    "i, j = k, 257\n",
    "print(f\"{i=}, {j=} {i==j =}, {i is j =}\")   # False, no to w końcu jak ma być???"
   ]
  },
  {
   "cell_type": "markdown",
   "id": "a5f4841b-5f1a-45db-92a3-09e292f1374b",
   "metadata": {},
   "source": [
    "Problem wynika oczywiście z optymalizacji czynionych przez CPythona. Ponieważ w programach często występują literały będące małymi wartościami całkowitymi, a liczby całkowite to w Pythonie niemodyfikowalne obiekty, to warto zamiast tworzyć np. setką obiektów `2`, stworzyć jeden, zapamiętać w pamięci podręcznej interpretera (ang. cache) i potem za każdym razem używać, gdy w programie pojawi się literał `2`. Oczywiście trzeba jeszcze zdefiniować, co znaczy \"mały\", tu jak widać jest to `<= 256`.\n",
    "\n",
    "W p. A taka optymalizacja miała miejsce, w B już nie (liczba była za duża), w C CPython zastosował inną optymalizację (zauważył, że po prawej są dwa obiekty stałe i wyliczają się do tej samej wartości), w D już nie było dwu stałych.\n",
    "\n",
    "**Uwaga**: nie zakładajmy **nigdy**, że optymalizacje będą miały miejsce (chyba że są opisane w specyfikacji języka). Tu prześledziliśmy ciekawy zachowanie CPythona - i tylko tyle. Bez analizy kodu CPythona nie wiemy nawet, czy ten sam kawałek kodu w innym miejscu programu da te same wyniki. A tym bardziej nie wiemy tego o kolejnych wersjach CPythona. Np. może się okazać, że jakaś optymalizacja powoduje, że kod jest bardziej podatny na ataki i optymalizacja zostanie wyłączona. Albo twórcy uznają, że zysk z optymalizacji nie jest wart wysiłku wkładanego w generowanie zoptymalizowanego kodu. Albo wprowadzą inną optymalizację, nie obejmującą (niektórych) przypadków optymalizowanych wcześniej. Albo ... itd., itp. Nie zakładajmy specyficznych cech danej implementacji (np. jej optymalizacji).\n"
   ]
  },
  {
   "cell_type": "markdown",
   "id": "98d8bba0-f5f8-4e23-aeb5-f4760ba728bf",
   "metadata": {},
   "source": [
    "## Operatory arytmetyczne\n",
    "\n",
    "Analogicznie do operatorów porównań, można definiować operatory arytmetyczne. Oto tabelka pokazująca jaka metoda odpowiada za jaki operator.\n",
    "\n",
    "| Operator | Metoda |\n",
    "| -------- | ------ |\n",
    "| `x+y` | `x.__add__(y)` | \n",
    "| `x-y` | `x.__sub__(y)` |\n",
    "| `x\\*y` | `x.__mul__(y)` |\n",
    "| `x/y`  |  `x.__truediv__(y)` |\n",
    "| `x//y`  |  `x.__floordiv__(y)` |\n",
    "| `x%y` | `x.__mod__(y)` |\n",
    "| `x**y` | `x.__pow__(y)` |\n",
    "\n",
    "# Ćwiczenie (do domu)\n",
    "Zdefiniuj klasę `Ułamek` z konstruktorem (z dwoma parametrami: licznik i mianownik), operacjami arytmetycznymi (+, -, *, /), operatorami porównań i obiema konwersjami do napisów (wynik ma być w postaci *licznik/mianownik*). Zwróć uwagę na to, by operacje arytmetyczne nie modyfikowały swoich argumentów. Zadbaj o wykrywanie próby utworzenia ułamka o zerowym mianowniku (`assert`). Zadbaj o prawidłowe traktowanie ułamków ujemnych oraz ułamka o wartości zero. Ułamki należy pamiętać w postaci skróconej (można w tym celu skorzystać z `math.gcd`, ta funkcja również dla ujemnych argumentów daje wynik nieujemny). Dopisz kod testujący Twoje rozwiązanie dla co najmniej dwu ułamków. Możesz założyć, że drugi argument operatorów też jest ułamkiem."
   ]
  },
  {
   "cell_type": "code",
   "execution_count": null,
   "metadata": {},
   "outputs": [],
   "source": [
    "import math\n",
    "\n",
    "class Ułamek:\n",
    "    def __init__(self, licznik, mianownik):\n",
    "        assert mianownik != 0, \"Mianownik nie może być zerem.\"\n",
    "        gcd = math.gcd(licznik, mianownik)\n",
    "        self.m = abs(mianownik)//gcd\n",
    "        self.l = licznik//gcd if mianownik >= 0 else -licznik//gcd\n",
    "\n",
    "    # konwersje do napisów\n",
    "    def __str__(self):\n",
    "        if self.m == 1:\n",
    "            return str(self.l)\n",
    "        else:            \n",
    "            return str(self.l) + '/' + str(self.m)\n",
    "        \n",
    "    __repr__ = __str__\n",
    "    \n",
    "    # operatory porównań\n",
    "    def __eq__(lhs, rhs):\n",
    "        return lhs.l == rhs.l and lhs.m == rhs.m\n",
    "    \n",
    "    def __ne__(lhs, rhs):\n",
    "        return not lhs == rhs     \n",
    "\n",
    "    def __lt__(lhs, rhs):\n",
    "        lcm = math.lcm(lhs.m, rhs.m)\n",
    "        return (lhs.l * lcm / lhs.m) < (rhs.l * lcm / rhs.m)\n",
    "    \n",
    "    def __le__(lhs, rhs):\n",
    "        return lhs == rhs or lhs < rhs\n",
    "    \n",
    "    def __gt__(lhs, rhs):\n",
    "        return not lhs <= rhs\n",
    "    \n",
    "    def __ge__(lhs, rhs):\n",
    "        return not lhs < rhs\n",
    "\n",
    "    # operatory arytmetryczne\n",
    "    def __add__(lhs, rhs):\n",
    "        lcm = math.lcm(lhs.m, rhs.m)\n",
    "        return Ułamek((lhs.l * lcm // lhs.m) + (rhs.l * lcm // rhs.m), lcm)\n",
    "    \n",
    "    def __sub__(lhs, rhs):\n",
    "        lcm = math.lcm(lhs.m, rhs.m)\n",
    "        return Ułamek((lhs.l * lcm // lhs.m) - (rhs.l * lcm // rhs.m), lcm)\n",
    "    \n",
    "    def __mul__(lhs, rhs):\n",
    "        return Ułamek(lhs.l * rhs.l, lhs.m * rhs.m)\n",
    "    \n",
    "    def __truediv__(lhs, rhs):\n",
    "        return Ułamek(lhs.l * rhs.m, lhs.m * rhs.l)\n",
    "\n",
    "u1 = Ułamek(3,4)\n",
    "u2 = Ułamek(5,-6)\n",
    "print(f\"{u1 = } oraz {u2 = }\")\n",
    "print(f\"{u1 == u2 = }\")\n",
    "print(f\"{u1 != u2 = }\")\n",
    "print(f\"{u1 < u2 = }\")\n",
    "print(f\"{u1 <= u2 = }\")\n",
    "print(f\"{u1 > u2 = }\")\n",
    "print(f\"{u1 >= u2 = }\")\n",
    "print(f\"{u1 + u2 = }\")\n",
    "print(f\"{u1 - u2 = }\")\n",
    "print(f\"{u1 * u2 = }\")\n",
    "print(f\"{u1 / u2 = }\")"
   ]
  },
  {
   "cell_type": "markdown",
   "id": "3eb3d134-1282-4579-90dd-20653cb49764",
   "metadata": {},
   "source": [
    "# Dziedzieczenie\n",
    "\n",
    "W Pythonie mamy dziedziczenie. Wszystkie klasy w Pythonie dziedziczą (podobnie jak w Javie) po jednej klasie. Ta klasa nazywa się `object` (niestety, ta nazwa jest pisana z małej litery)."
   ]
  },
  {
   "cell_type": "code",
   "execution_count": null,
   "id": "c42a203c-6137-48a0-8db3-147de1915690",
   "metadata": {},
   "outputs": [],
   "source": [
    "ob = object()\n",
    "print(ob)"
   ]
  },
  {
   "cell_type": "markdown",
   "id": "9192f2ea-6886-4bef-951a-be3a90b28668",
   "metadata": {},
   "source": [
    "Co więcej, wszystkie typy w Pythonie dziedziczą po tej klasie, np. liczby czy napisy!\n",
    "Poniżej używamy standardowej funkcji `isinstance(obiekt, klasa)`, która daje wynik `True`, jeśli `obiekt` pochodzi (bezpośrednio lub pośrednio) z podanej klasy `klasa` (i `False` wpp.)."
   ]
  },
  {
   "cell_type": "code",
   "execution_count": null,
   "id": "e4880e1f-007c-457a-9333-f23aa0f9ecad",
   "metadata": {},
   "outputs": [],
   "source": [
    "print(f\"{isinstance(1, object)=}, {isinstance('Ala', object)=}\")\n",
    "print(f\"{isinstance(1, int)=}, {isinstance('Ala', str)=}\")"
   ]
  },
  {
   "cell_type": "markdown",
   "id": "7362292d-867e-4f8c-bf90-00f002b10a41",
   "metadata": {},
   "source": [
    "Zdefiniujmy klasę `Student` jako podklasę klasy `Osoba`. Składniowo dziedziczenie wymaga jedynie podania po nazwie klasy dziedziczącej nazwy klasy bazowej ujętej w nawiasy okrągłe. \n",
    "\n",
    "# Ćwiczenie\n",
    "Dodaj w klasie `Student` atrybut `numer_albumu` oraz zmień odpowiednio metody inicjalizujące oraz wypisujące. Ponieważ robiliśmy wiele eksperymentów z klasą `Osoba`, na wszelki wypadek zapisz w tym ćwiczeniu tę klasę ponownie."
   ]
  },
  {
   "cell_type": "code",
   "execution_count": null,
   "metadata": {},
   "outputs": [],
   "source": [
    "class Osoba:\n",
    "    _ile = 0\n",
    "    \n",
    "    def __init__(self, imię, nazwisko, zwierzak=None):\n",
    "        Osoba._ile += 1\n",
    "        self._imię = imię\n",
    "        self._nazwisko = nazwisko\n",
    "        self._zwierzak = zwierzak\n",
    "        \n",
    "    def _przedstaw_się(self):\n",
    "        return f\"{self._imię} {self._nazwisko}{' zwierzak: ' + self._zwierzak if self._zwierzak != None else ''}\"\n",
    "    \n",
    "    def __str__(self):\n",
    "        return self._przedstaw_się()\n",
    "\n",
    "    def __repr__(self):\n",
    "        return self._przedstaw_się()\n",
    " \n",
    "    def __eq__(self, other):\n",
    "        return (self._imię, self._nazwisko) == (other._imię, other._nazwisko)\n",
    "\n",
    "    def __lt__(self, other):\n",
    "        return (self._imię, self._nazwisko) < (other._imię, other._nazwisko)\n",
    "\n",
    "    def __le__(self, other):\n",
    "        return (self._imię, self._nazwisko) <= (other._imię, other._nazwisko)\n",
    "    \n",
    "class Student(Osoba):\n",
    "    def __init__(self, imię, nazwisko, nr_albumu, zwierzak=None):\n",
    "        self._imię = imię\n",
    "        self._nazwisko = nazwisko\n",
    "        self._zwierzak = zwierzak\n",
    "        self._nr_albumu = nr_albumu\n",
    "        \n",
    "    def _przedstaw_się(self):\n",
    "        return f\"{self._imię} {self._nazwisko} numer albumu: {self._nr_albumu}){'zwierzak: ' + self._zwierzak if self._zwierzak != None else ''}\"\n",
    "\n",
    "    def __str__(self):\n",
    "            return self._przedstaw_się()\n",
    "\n",
    "    def __repr__(self):\n",
    "        return self._przedstaw_się()"
   ]
  },
  {
   "cell_type": "markdown",
   "id": "3a5779b9-cfb3-4345-9e95-932a303ad3c1",
   "metadata": {},
   "source": [
    "## Metoda `super`\n",
    "\n",
    "Jak widać duża część konstruktora podklasy powtarza kod z konstruktora nadklasy. Tego oczywiście chcemy unikać. Rozwiązaniem jest wywołanie metody z nadklasy, ale potrzebujemy składni, do wskazania którą (naszą czy odziedziczoną) metodę chcemy wywołać. Taką składnią jest znane nam już odwołanie się do nazwy klasy. Zobaczmy jak możemy skrócić treść konstrutora w klasie Student. "
   ]
  },
  {
   "cell_type": "code",
   "execution_count": null,
   "id": "b781a342-addf-4f0d-97e9-d9aa95ca48bb",
   "metadata": {},
   "outputs": [],
   "source": [
    "def cokolwiek(self, imię, nazwisko, nr_albumu, zwierzak=None):\n",
    "        Osoba.__init__(self, imię, nazwisko, zwierzak) \n",
    "        self.nr_albumu = nr_albumu\n",
    " \n",
    "Student.__init__ = cokolwiek\n",
    "\n",
    "os10 = Student(\"Alojzy\", \"Bąbel\", \"131313\")\n",
    "print(f\"{os10=}, {os10}, {Osoba.ile=}, {Student.ile=}\")"
   ]
  },
  {
   "cell_type": "markdown",
   "id": "363a1258-adc4-48e7-b76e-4232fa7b4646",
   "metadata": {},
   "source": [
    "Innym (o dużo bardziej subtelnej semantyce) sposobem jest funkcja wbudowana `super`. Można ją wywołać bez parametrów, albo podając klasę, od której ma się zacząć wyszukiwanie, albo dodatkowo podając obiekt, dla którego szukamy. Szczegóły (niektóre) można znaleźć w [dokumentacji Pythona](https://docs.python.org/3/library/functions.html#super)."
   ]
  },
  {
   "cell_type": "code",
   "execution_count": null,
   "id": "2bb65f26-280b-4522-81b6-5c8209c2a404",
   "metadata": {},
   "outputs": [],
   "source": [
    "def cokolwiek(self, imię, nazwisko, nr_albumu, zwierzak=None):\n",
    "        super(Student, self).__init__(imię, nazwisko, zwierzak)  # Uwaga: w tym miejscu wywołanie super() nie zadziała zwn. sposób tworzenia domknięć funkcji, choć zadziałałoby w treści klasy. Pomijamy tu dokładną dyskusję czemu.\n",
    "        self.nr_albumu = nr_albumu\n",
    " \n",
    "Student.__init__ = cokolwiek\n",
    "\n",
    "os10 = Student(\"Alojzy\", \"Bąbel\", \"131313\")\n",
    "print(f\"{os10=}, {os10}, {Osoba.ile=}, {Student.ile=}\")"
   ]
  },
  {
   "cell_type": "markdown",
   "id": "939abcd6-9291-4c91-b77e-1bc12d172619",
   "metadata": {},
   "source": [
    "# (Dziurawa) hermetyzacja danych\n",
    "\n",
    "Jak pamiętamy z pierwszego roku i wykładu o programowaniu obiektowym, ważną zaletą tego podejścia jest możliwość ochrony danych. Ta ochrona jest związana z typami i ich deklaracjami. Można powiedzieć, że coś jest chronione (np. prywatne) i wówczas kompilator nie pozwoli na niedozwolony dostęp (np. spoza klasy) do takiego atrybutu lub metody. Jednak w Pythonie nie mamy ani kompilacji[^1] ani deklarowania typów czy zakresów dostępu. Poza tym w językach skryptowych (a takie są początki Pythona) ochrona danych nie ma takiego znaczenia, jak w językach stworzonych do pisania dużych programów.\n",
    "\n",
    "Z tych powodów ochrona składowych jest w Pythonie zupełnie inna niż np. w Javie (i dużo mniej skuteczna). Zamiast klasycznych zakresów widoczności (publiczny, chroniony i prywatny) mamy trzy poziomy wytycznych dla użytkowników klasy:\n",
    "* korzystaj bez ograniczneń (nie wymaga żanych zabiegów, odpowiada znanemu nam dostępowi publicznemu),\n",
    "* lepiej tego nie używaj, no chyba że masz powód (wymaga podania pojedynczego podkreślenia na początku nazwy składowej),\n",
    "* zdecydowanie odradzam ci używania tego, jeśli jednak to zrobisz bierzesz na siebie całą odpowiedzialność (wymaga podania podwójnego podkreślenia na początku nazwy składowej).\n",
    "\n",
    "Jest też w świecie Pythonowym związana z tymi ograniczeniami filzofia, mówiąca, że Python jest elastyczny i pozwala zrobić wszystko, w końcu jesteśmy już dorośli. Dyskusja tego, czy to słuszne założenie zdecydowanie wykracza poza ramy tego skryptu, ponadto zwykle (jeśli podjęta) nie kończy się jednoznaczną konkluzją, a przede wszystkim nie zmieni rozwiązania przyjętego wiele lat temu w Pythonie.\n",
    "\n",
    "Spróbujmy wprowadzić te ograniczenia w klasie Osoba. W tym celu ponownie zdefiniujemy klasy Osoba i Student. Zaczniemy od ochrony w wersji miękkiej.\n",
    "\n",
    "[^1] W każdym razie nie ma jej w opisie języka."
   ]
  },
  {
   "cell_type": "code",
   "execution_count": null,
   "id": "558f5d9c-0dd6-469c-9a13-87a42fdc17aa",
   "metadata": {},
   "outputs": [],
   "source": [
    "class Osoba:\n",
    "    _ile = 0\n",
    "    \n",
    "    def __init__(self, imię, nazwisko, zwierzak=None):\n",
    "        Osoba._ile += 1\n",
    "        self._imię = imię\n",
    "        self._nazwisko = nazwisko\n",
    "        self._zwierzak = zwierzak\n",
    "        \n",
    "    def _przedstaw_się(self):\n",
    "        return f\"{self._imię} {self._nazwisko}{' pupil: ' + self._zwierzak if self._zwierzak != None else ''}\"\n",
    "    \n",
    "    def __str__(self):\n",
    "        return self._przedstaw_się()\n",
    "\n",
    "    def __repr__(self):\n",
    "        return self._przedstaw_się()\n",
    "\n",
    "    # Poniższych porównań nie używamy w tym ćwiczeniu\n",
    "    \n",
    "    def __eq__(self, other):\n",
    "        return (self._imię, self._nazwisko) == (other._imię, other._nazwisko)\n",
    "\n",
    "    def __lt__(self, other):\n",
    "        return (self._imię, self._nazwisko) < (other._imię, other._nazwisko)\n",
    "\n",
    "    def __le__(self, other):\n",
    "        return (self._imię, self._nazwisko) <= (other._imię, other._nazwisko)\n",
    "            \n",
    "class Student(Osoba):\n",
    "    def __init__(self, imię, nazwisko, nr_albumu, zwierzak=None):  # tu imię itd., to parametry, więc nie zmieniamy na _imię\n",
    "        super().__init__(imię, nazwisko, zwierzak)                 # tu można użyć super bez parametrów (wywołujemy super w normalnym dla tej funkcji miejscu - wewnątrz klasy)\n",
    "        self._nr_albumu = nr_albumu\n",
    "        \n",
    "    def _przedstaw_się(self):\n",
    "        return f\"{self._imię} {self._nazwisko} (nr alb. = {self._nr_albumu}){'pupil: ' + self._zwierzak if self._zwierzak != None else ''}\"\n"
   ]
  },
  {
   "cell_type": "markdown",
   "id": "5e9c688b-0cd8-4cec-94de-5e75ee1b46e0",
   "metadata": {},
   "source": [
    "Bez wątpienia pierwsze spostrzeżenie jest takie, że dużo prościej dopisać private raz, w deklaracji, niż _ przy każdym użyciu. W C++ jest jeszcze wygodniej (można nawet ani razu nie napisać private, a z niego korzystać, protected wystarczy napisać raz na klasę). Oczywiście dobre IDE może tu trochę pomóc.\n",
    "\n",
    "Drugie takie, że ... nic się nie stało. Spróbujmy zatem zupełnie z zewnątrz dostać się do atrybutów i metod."
   ]
  },
  {
   "cell_type": "code",
   "execution_count": null,
   "id": "df604e16-770a-44a2-baee-2d26dafbf20b",
   "metadata": {},
   "outputs": [],
   "source": [
    "os11 = Osoba(\"Weronik\", \"Czyścioch\")\n",
    "os12 = Student(\"Róża\", \"Lewkonik\", \"234567\")\n",
    "\n",
    "print(f\"{os11=}, {os11}, {os11._imię=}, {os11._przedstaw_się()}\")\n",
    "print(f\"{os12=}, {os12}, {os12._imię=}, {os12._przedstaw_się()}\")\n",
    "print(f\"{Osoba._ile=}, {Student._ile=}\")\n",
    "\n",
    "os11._imię = os12._imię = \"Alojzy\"\n",
    "os11._nazwisko = os12._nazwisko = \"Bąbel\"\n",
    "Osoba._przedstaw_się = Student._przedstaw_się = (lambda ja: f\"Jestem robotem \")\n",
    "\n",
    "print(f\"{os11=}, {os11}, {os11._imię=}, {os11._przedstaw_się()}\")\n",
    "print(f\"{os12=}, {os12}, {os12._imię=}, {os12._przedstaw_się()}\")\n",
    "print(f\"{Osoba._ile=}, {Student._ile=}\")\n",
    "\n",
    "# Na potrzeby przykładu lekko zmieniliśmy prawdziwy przebieg wypadków z końca pierwszego tomu przygód Pana Kleksa."
   ]
  },
  {
   "cell_type": "markdown",
   "id": "dfdf9848-473a-49e6-b2c1-be2db0f3374e",
   "metadata": {},
   "source": [
    "Jak widać, nie było żadnych ostrzeżeń, czy błędów. Można dowolnie zmieniać z zewnątrz atrybuty miękko chronione (tzn. z pojedynczym _).\n",
    "\n",
    "Spróbujmy zatem twardej ochrony (podwójne _)."
   ]
  },
  {
   "cell_type": "code",
   "execution_count": null,
   "id": "10f1a70e-bd4a-4310-bd82-362ed72ad60b",
   "metadata": {},
   "outputs": [],
   "source": [
    "class Osoba:\n",
    "    __ile = 0\n",
    "    \n",
    "    def __init__(self, imię, nazwisko, zwierzak=None):\n",
    "        Osoba.__ile += 1\n",
    "        self.__imię = imię\n",
    "        self.__nazwisko = nazwisko\n",
    "        self.__zwierzak = zwierzak\n",
    "        \n",
    "    def __przedstaw_się(self):\n",
    "        return f\"{self.__imię} {self.__nazwisko}{' pupil: ' + self.__zwierzak if self.__zwierzak != None else ''}\"\n",
    "    \n",
    "    def __str__(self):\n",
    "        return self.__przedstaw_się()\n",
    "\n",
    "    def __repr__(self):\n",
    "        return self.__przedstaw_się()\n",
    "\n",
    "    # Poniższych porównań nie używamy w tym ćwiczeniu\n",
    "    \n",
    "    def __eq__(self, other):\n",
    "        return (self.__imię, self.__nazwisko) == (other.__imię, other.__nazwisko)\n",
    "\n",
    "    def __lt__(self, other):\n",
    "        return (self._imię, self._nazwisko) < (other.__imię, other.__nazwisko)\n",
    "\n",
    "    def __le__(self, other):\n",
    "        return (self.__imię, self.__nazwisko) <= (other.__imię, other.__nazwisko)\n",
    "    \n",
    "        \n",
    "class Student(Osoba):\n",
    "    def __init__(self, imię, nazwisko, nr_albumu, zwierzak=None):  # tu imię itd., to parametry, więc nie zmieniamy na _imię\n",
    "        super().__init__(imię, nazwisko, zwierzak)                 # tu można użyć super bez parametrów (wywołujemy super w normalnym dla tej funkcji miejscu - wewnątrz klasy)\n",
    "        self.__nr_albumu = nr_albumu\n",
    "        \n",
    "    def __przedstaw_się(self):\n",
    "        return f\"{self.__imię} {self.__nazwisko} (nr alb. = {self.__nr_albumu}){'pupil: ' + self.__zwierzak if self.__zwierzak != None else ''}\""
   ]
  },
  {
   "cell_type": "markdown",
   "id": "3d48887f-848c-4a06-ac63-6a33f7b22cfd",
   "metadata": {},
   "source": [
    "Na razie dalej działa. Sprawdźmy jeszcze kod przykładowy."
   ]
  },
  {
   "cell_type": "code",
   "execution_count": null,
   "id": "e7ad137a-d556-4f64-905d-8ae5517a9d60",
   "metadata": {},
   "outputs": [],
   "source": [
    "os11 = Osoba(\"Weronik\", \"Czyścioch\")\n",
    "os12 = Student(\"Róża\", \"Lewkonik\", \"234567\")\n",
    "\n",
    "print(os11.__p__)\n",
    "print(f\"{os11=}, {os11}, {os11.__imię=}, {os11.__przedstaw_się()}\")\n",
    "print(f\"{os12=}, {os12}, {os12.__imię=}, {os12.__przedstaw_się()}\")\n",
    "print(f\"{Osoba.__ile=}, {Student.__ile=}\")\n",
    "\n",
    "os11.__imię = os12.__imię = \"Alojzy\"\n",
    "os11.__nazwisko = os12.__nazwisko = \"Bąbel\"\n",
    "Osoba.__przedstaw_się = Student.__przedstaw_się = (lambda ja: f\"Jestem robotem.\")\n",
    "\n",
    "print(f\"{os11=}, {os11}, {os11.__imię=}, {os11.__przedstaw_się()}\")\n",
    "print(f\"{os12=}, {os12}, {os12.__imię=}, {os12.__przedstaw_się()}\")\n",
    "print(f\"{Osoba.__ile=}, {Student.__ile=}\")\n",
    "\n",
    "# Na potrzeby przykładu lekko zmieniliśmy prawdziwy przebieg wypadków z końca pierwszego tomu przygód Pana Kleksa."
   ]
  },
  {
   "cell_type": "markdown",
   "id": "d9760dbf-90fb-4395-83fe-5ec67930fcbc",
   "metadata": {},
   "source": [
    "Wreszcie coś nie działa! Już pierwsze przypisanie na `__imię` w `os11`! Czyżby udało się ukryć atrybuty? Już zbyt wiele razy w tym skrypcie okazywało się, że rzeczy nie sa takimi na jakie wyglądają ... .\n",
    "\n",
    "Zróbmy dziwny zabieg, wypiszmy za pomocą funkcji `dir` dane o naszym obiekcie (Panu Weroniku)."
   ]
  },
  {
   "cell_type": "code",
   "execution_count": null,
   "id": "8747695c-dbb6-497a-922e-0ee1c8c031f6",
   "metadata": {},
   "outputs": [],
   "source": [
    "print(dir(os11))"
   ]
  },
  {
   "cell_type": "markdown",
   "id": "167b239b-fdb1-4299-8e1f-0f75f824ad12",
   "metadata": {},
   "source": [
    "Ktoś (to był Python) pracowicie pozamienił nazwy zaczynające się na `__` (ale nie kończące tak samo) na zaczynające się od `_Klasa__`, gdzie `Klasa`, to nazwa naszej klasy. Dość karkołomne.\n",
    "A zobaczmy co się stało w podklasie.\n",
    "\n"
   ]
  },
  {
   "cell_type": "code",
   "execution_count": null,
   "id": "c5501fbb-da69-491c-9107-7d8c86cfc80b",
   "metadata": {},
   "outputs": [],
   "source": [
    "print(dir(os12))"
   ]
  },
  {
   "cell_type": "markdown",
   "id": "19b8593a-b764-4a96-b959-88ddc988f5da",
   "metadata": {},
   "source": [
    "O, ciekawe! Nowe atrybuty (`nr_indeksu`) i podmienione metody (`_Student__przedstaw_się`) zostały zmienione na nawe z identyfikatorem klasy `Student` w ich treści. To drugie niestety oznacza, że przestaje działać polimorfizm. No ale skoro ta metoda nie miała być wołana spoza klasy, to trudno mieć tu pretensje.\n",
    "\n",
    "Zamieńmy więc w części testującej `__imię` na `_Osoba__imię` i analogicznie pozostałe identyfikatory."
   ]
  },
  {
   "cell_type": "code",
   "execution_count": null,
   "id": "9cb12eb8-5dc0-49b9-a319-90052155c692",
   "metadata": {},
   "outputs": [],
   "source": [
    "os11 = Osoba(\"Weronik\", \"Czyścioch\")\n",
    "os12 = Student(\"Róża\", \"Lewkonik\", \"234567\")\n",
    "\n",
    "print(f\"{os11=}, {os11}, {os11._Osoba__imię=}, {os11._Osoba__przedstaw_się()}\")\n",
    "print(f\"{os12=}, {os12}, {os12._Osoba__imię=}, {os12._Student__nr_albumu}, {os12._Student__przedstaw_się()}\")\n",
    "print(f\"{Osoba._Osoba__ile=}, {Student._Osoba__ile=}\")\n",
    "\n",
    "os11._Osoba__imię = os12._Osoba__imię = \"Alojzy\"\n",
    "os11._Osoba__nazwisko = os12._Osoba__nazwisko = \"Bąbel\"\n",
    "Osoba._Osoba__przedstaw_się = Student._Osoba__przedstaw_się = (lambda ja: f\"Jestem robotem.\")\n",
    "\n",
    "print(f\"{os11=}, {os11}, {os11._Osoba__imię=}, {os11._Osoba__przedstaw_się()}\")\n",
    "print(f\"{os12=}, {os12}, {os12._Osoba__imię=}, {os12._Student__nr_albumu}, {os12._Student__przedstaw_się()}\")\n",
    "print(f\"{Osoba._Osoba__ile=}, {Student._Osoba__ile=}\")\n",
    "\n",
    "# Na potrzeby przykładu lekko zmieniliśmy prawdziwy przebieg wypadków z końca pierwszego tomu przygód Pana Kleksa."
   ]
  },
  {
   "cell_type": "markdown",
   "id": "eb4fd4dd-0790-4102-be58-e53e98de01c7",
   "metadata": {},
   "source": [
    "Nie nie działa - świetnie! \n",
    "\n",
    "Niestety nie jest to dokładnie to, co chcieliśmy osiągnąć (do samej metody udało się dostać, dopiero w jej treści był problem, z inna treścią mogłoby zadziałać).\n",
    "\n",
    "Podsumowując: mamy w Pythonie mechanizm do sugerowania lub zdecydowanego sugerowania, że atrybuty lub metody mają ograniczony dostęp, ale:\n",
    "* nie jest to zbyt wygodne (trzeba dziwnie nazywać atrybuty/metody i to może być irytujące przy pisaniu treści klasy),\n",
    "* daje się te zabezpieczenia obejść,\n",
    "* nie ma możliwości rozróżniania praw dostepu między podklasami a resztą programu.\n",
    "\n",
    "Z drugiej strony, jednak jest to jakieś narzędzie i warto z niego korzystać (jak się nie ma co się lubi ...)."
   ]
  },
  {
   "cell_type": "markdown",
   "id": "3286b918-1200-4dfd-9ca3-f77cea45f48c",
   "metadata": {},
   "source": [
    "# Atrybuty obiektowe i klasowe\n",
    "\n",
    "Widzieliśmy już jedne (np. `imię` w klasie `Osoba`) i drugie (np. licznik `ile` w klasie `Osoba`). Podsumujmy ich zachowania na przykładzie."
   ]
  },
  {
   "cell_type": "code",
   "execution_count": null,
   "id": "33c5fa13-471c-464e-822e-7cabe39a1009",
   "metadata": {},
   "outputs": [],
   "source": [
    "class A:\n",
    "    ak = 0                # atrybut klasowy\n",
    "    \n",
    "    def __init__(self):\n",
    "        ao = 1            # Ups! Zmienna lokalna w metodzie __self__\n",
    "        self.ao = 2       # atrybut obiektowy\n",
    "        \n",
    "o = A()\n",
    "\n",
    "print(A.ak)    # Atrybut klasowy\n",
    "print(o.ak)    # Atrybut klasowy. Ale tak nie piszmy!\n",
    "print(o.ao)    # Atrybut obiektowy\n",
    "\n",
    "A.ak = 3  # Atrybut klasowy\n",
    "o.ak = 4  # Ups! Atrybut _obiektowy_ (sic!). W tym przypadku nowy. Obiekt o ma teraz dwa atrybuty (ao i ak). Inne obiekty tej klasy nie mają (o ile nie przypiszemy) atrybutu ak.\n",
    "o.ao = 5  # Atrybut obiektowy\n",
    "    \n",
    "print(A.ak)    # Atrybut klasowy\n",
    "print(o.ak)    # Ups! Atrybut _obiektowy_\n",
    "print(o.__class__.ak)    # Atrybut klasowy\n",
    "print(o.ao)    # Atrybut obiektowy\n",
    "\n",
    "o2 = A()\n",
    "\n",
    "print(A.ak)    # Atrybut klasowy\n",
    "print(o2.ak)   # Atrybut klasowy (ale tak nie piszmy), por. z o.ak\n"
   ]
  },
  {
   "cell_type": "markdown",
   "id": "1440f409-efd6-4ce6-9e20-53b2ed318268",
   "metadata": {},
   "source": [
    "Podsumowując, obiekty w Pythonie mają znacznie bardziej dynamiczną naturę niż w językach kompilowanych. Czego można by się spodziewać, ale czasami potrafi to zaskoczyć (nawet dość mocno). Dobrym sposobem na myślenie o tym co znaczą poszczególne odwołania do obiektów jest spojrzenie implementacyjne: każdy obiekt ma słownik atrybutów, indeksowanych ich nazwami. Odwołania `obiekt.atrybut` oznaczają siąganie do tego słownika do elementu o kluczu `atrybut` i odczytanie/zapisanie związanej z kluczem wartości. Jeśli klucza jeszcze nie było, to próba odczytania powoduje błąd, zaś próba zapisu tworzy nowy element słownika. Ten opis nieco się komplikuje zwn. atrybuty globalne (też są szukane przy próbie odczytania) i dziedziczenie (łańcuch dziedziczenia jest przeszukiwany przy próbie odczytu lub zapisu, ma zresztą dość ciekawą postać zwn. wielodziedziczenie). Mimo to, taka intuicja - obiekt to słownik atrybutów - bardzo ułatwia zrozumienie implementacji obiektowości w Pythonie."
   ]
  },
  {
   "cell_type": "markdown",
   "id": "ad80a0a5-a76e-4f1b-baaf-223642bdbdbd",
   "metadata": {},
   "source": [
    "# Akcesory\n",
    "\n",
    "Pamiętamy z Javy, że obiekty mogły jednocześnie ukrywać swoje dane (widoczność `private`) i pozwalać bezpieczenie z nich korzystać (akcesory). Przy czym używaliśmy nieco wygodniejszej notacji dla nazw akcesorów, tą nazwą była po prostu nazwa atrybutu, podczas gdy standardowo w Javie używa się przedrostków `get`, `set` lub `is`. Na koniec przypomnijmy, że oprócz akcesorów prostych, jedynie zapewniających dostęp do atrybutu, można definiować akcesory złożone, z rozbudowaną logiką (np. do sprawdzania poprawności przypisywanej wartości w seterze), w szczególności sam atrybut może fizycznie nie istnieć (może mieć inną nazwę, może być częścią większej całości lub może być wyliczany).\n",
    "\n",
    "Czy możemy to samo zrobić w Pythonie? Tak, tylko używając innej składni. Składni bardziej rozbudowanej niż w Javie (co zaskakuje), ale pozwalającej ukryć sam fakt użycia akcesora."
   ]
  },
  {
   "cell_type": "code",
   "execution_count": null,
   "id": "c4c0f284-9912-4317-8571-79da98471c80",
   "metadata": {},
   "outputs": [],
   "source": [
    "import math\n",
    "\n",
    "class Koło:\n",
    "        \n",
    "    def __init__(self, promień):\n",
    "        self.__promień = 0       # na wszelki wypadek, gdyby następna linijka nie zadziałała przy złym argumencie\n",
    "        self.promień = promień   # setter\n",
    "    \n",
    "    @property\n",
    "    def promień(self):\n",
    "        return self.__promień\n",
    "\n",
    "    @promień.setter\n",
    "    def promień(self, promień):  \n",
    "        if type(promień) not in [int, float]:\n",
    "            print(f\"Nie mogę ustawić promienia nie będącego liczbą ({promień=})\")  # przy niepoprawnym parametrze nie zmienia wartości atrybutu\n",
    "        elif promień < 0:    \n",
    "            print(f\"Nie mogę ustawić promienia mniejszego od zera ({promień=})\")\n",
    "        else:\n",
    "            self.__promień = promień\n",
    "\n",
    "    @property\n",
    "    def obwód(self):\n",
    "        return 2 * math.pi * self.__promień\n",
    "\n",
    "    @property\n",
    "    def pole(self):\n",
    "        return math.pi * self.__promień ** 2\n",
    "    \n",
    "    def __str__(self):\n",
    "        return f\"Koło o promieniu {self.__promień}\"\n",
    "\n",
    "    def __repr__(self):\n",
    "        return f\"Koło o promieniu {self.__promień}\"\n",
    "    \n",
    "\n",
    "def test(koło):\n",
    "    print(f\"{koło=}, {koło.promień=:,.2f}, {koło.obwód=:,.2f}, {koło.pole=:,.2f}\")\n",
    "\n",
    "koła = [Koło(1), Koło(10), Koło(-3)]\n",
    "\n",
    "for k in koła:    \n",
    "    test(k)\n",
    "\n",
    "# koła[0].pole = 10    # Tu wystąpi błąd: AttributeError: can't set attribute 'pole'"
   ]
  },
  {
   "cell_type": "markdown",
   "id": "2484e9c7-302a-4f15-9496-f37fb35301d3",
   "metadata": {},
   "source": [
    "Czyli podsumujmy:\n",
    "* Można definiować własności (ang. properties) obiektów.\n",
    "* Własności odpowiadają akcesorom z Javy.\n",
    "* Własności nie muszą odpowiadać atrybutom obiektów (tak samo jak nie muszą akcesory w Javie).\n",
    "* Własność tylko do czytania definiuje się metodą o nazwie własności z dekoratorem @property.\n",
    "* Własność do zapisywania definiuje się metodą o nazwie własności z dekoratorem @<nazwa_własności>.setter. Z tego wynika, że metoda czytająca dla tej własności musi być wcześniej zdefiniowana.\n",
    "* Użytkownik klasy widzi właność tak jakby był to atrybut."
   ]
  }
 ],
 "metadata": {
  "kernelspec": {
   "display_name": "Python 3 (ipykernel)",
   "language": "python",
   "name": "python3"
  },
  "language_info": {
   "codemirror_mode": {
    "name": "ipython",
    "version": 3
   },
   "file_extension": ".py",
   "mimetype": "text/x-python",
   "name": "python",
   "nbconvert_exporter": "python",
   "pygments_lexer": "ipython3",
   "version": "3.10.3"
  }
 },
 "nbformat": 4,
 "nbformat_minor": 5
}
